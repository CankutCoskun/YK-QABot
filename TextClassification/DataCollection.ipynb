{
 "cells": [
  {
   "cell_type": "markdown",
   "metadata": {},
   "source": [
    "## Labeled Data Collection for Classifier:\n",
    "Selenium web driver opens yapi kredi FAQs site visits each page and retrieve labeled data (question and answer pairs labeled with the corresponding category name)"
   ]
  },
  {
   "cell_type": "code",
   "execution_count": 1,
   "metadata": {},
   "outputs": [],
   "source": [
    "from  selenium import webdriver\n",
    "from selenium.common.exceptions import StaleElementReferenceException, NoSuchElementException\n",
    "import time\n",
    "import pandas as pd"
   ]
  },
  {
   "cell_type": "code",
   "execution_count": 2,
   "metadata": {},
   "outputs": [],
   "source": [
    "driver_path = \"./chromedriver\"\n",
    "browser = webdriver.Chrome(executable_path=driver_path)\n",
    "main_url = \"https://www.yapikredi.com.tr/memnuniyetiniz-icin-buradayiz/sikca-sorulan-sorular/\""
   ]
  },
  {
   "cell_type": "code",
   "execution_count": 3,
   "metadata": {},
   "outputs": [],
   "source": [
    "def getUrls(main_url):\n",
    "    browser.get(main_url)\n",
    "    group_URLs = []\n",
    "    groupsDiv = browser.find_element_by_class_name(\"sss-categories\")\n",
    "    print(groupsDiv.text)\n",
    "    all_children = groupsDiv.find_elements_by_tag_name(\"a\")\n",
    "        \n",
    "    for i in range(len(all_children)):\n",
    "        url = all_children[i].get_attribute(\"href\")\n",
    "        group_URLs.append(url)\n",
    "    \n",
    "    for each in group_URLs:\n",
    "        print(each)\n",
    "        \n",
    "    return group_URLs"
   ]
  },
  {
   "cell_type": "code",
   "execution_count": 4,
   "metadata": {},
   "outputs": [],
   "source": [
    "SubGroups = []"
   ]
  },
  {
   "cell_type": "code",
   "execution_count": 5,
   "metadata": {},
   "outputs": [],
   "source": [
    "def getSubUrls(groupUrl):\n",
    "    browser.get(groupUrl)\n",
    "    subgroup_Urls = []\n",
    "    subgroupsDiv = browser.find_element_by_class_name(\"gm\")\n",
    "    #print(subgroupsDiv.text)\n",
    "    SubGroups.append(subgroupsDiv.text.split(\"\\n\"))\n",
    "    sub_all_children = subgroupsDiv.find_elements_by_tag_name(\"li\")\n",
    "\n",
    "    subgroup_Urls =[]\n",
    "    for i in range(len(sub_all_children)):\n",
    "        element = sub_all_children[i].find_element_by_tag_name(\"a\")\n",
    "        url = element.get_attribute(\"href\")\n",
    "        subgroup_Urls.append(url)\n",
    "\n",
    "    #for each in subgroup_Urls:\n",
    "    #    print(each)\n",
    "    \n",
    "    return subgroup_Urls"
   ]
  },
  {
   "cell_type": "code",
   "execution_count": 6,
   "metadata": {},
   "outputs": [],
   "source": [
    "def getNumPages(url):\n",
    "    browser.get(url)\n",
    "    pager = browser.find_element_by_id(\"ctl00_ContentPlaceHolder1_ctrlFaq_pgrFaqsBottom\")\n",
    "    pages = pager.find_elements_by_tag_name(\"li\")\n",
    "    num_pages = len(pages)\n",
    "    #single page there is no pager \n",
    "    if num_pages == 0:\n",
    "        num_pages = 1\n",
    "        \n",
    "    return num_pages\n"
   ]
  },
  {
   "cell_type": "code",
   "execution_count": 7,
   "metadata": {},
   "outputs": [],
   "source": [
    "def collect_Page_Data(url, pageId):\n",
    "    isNotAttached = True\n",
    "    data = []\n",
    "    while isNotAttached:\n",
    "        try:\n",
    "            browser.get(url) \n",
    "            \n",
    "            singlePage = False\n",
    "            try:\n",
    "                pager = browser.find_element_by_id(\"ctl00_ContentPlaceHolder1_ctrlFaq_pgrFaqsBottom\")\n",
    "                page = pager.find_element_by_link_text(str(pageId))\n",
    "            except NoSuchElementException:\n",
    "                singlePage = True\n",
    "                #print(\"Single page url no pager\")\n",
    "                \n",
    "            if not singlePage:       \n",
    "                page.click()\n",
    "                #print(\"I have clicked \",page.text)\n",
    "                \n",
    "           \n",
    "            #print(\"I am waiting for 6 secs\")\n",
    "            time.sleep(10)\n",
    "            \n",
    "            faqs = browser.find_elements_by_class_name(\"answer-item\")\n",
    "            for f in faqs:\n",
    "                qna = \"\\n\".join(f.text.split(\"\\n\"))\n",
    "                data.append(qna)\n",
    "            \n",
    "            \n",
    "            isNotAttached = False\n",
    "        except StaleElementReferenceException:\n",
    "            print(\"WARNING !! Exception in clickPage()\")\n",
    "    #print(data)\n",
    "    return data\n",
    "    "
   ]
  },
  {
   "cell_type": "code",
   "execution_count": 8,
   "metadata": {},
   "outputs": [],
   "source": [
    "def collect_url_data(url):\n",
    "    all_qnas = []\n",
    "    num_pages = getNumPages(url)\n",
    "    #print(\"Number of pages : \", num_pages)\n",
    "    \n",
    "    for i in range(num_pages):\n",
    "        isAttached = False\n",
    "        while not isAttached:\n",
    "            try:\n",
    "                qnas = []\n",
    "                qnas = collect_Page_Data(url, i+1)\n",
    "                isAttached = True\n",
    "                \n",
    "            except StaleElementReferenceException:\n",
    "                print(\"Warning\")             \n",
    "                \n",
    "        #print(\"attached\")\n",
    "        all_qnas.append(qnas)\n",
    "        \n",
    "    return all_qnas\n",
    "    "
   ]
  },
  {
   "cell_type": "code",
   "execution_count": null,
   "metadata": {
    "scrolled": false
   },
   "outputs": [],
   "source": [
    "dataset = []\n",
    "Urls = getUrls(main_url)\n",
    "\n",
    "for idx_u in range(len(Urls)):\n",
    "    subUrls = getSubUrls(Urls[idx_u])\n",
    "    for idx_su in range(len(subUrls)):\n",
    "        data = collect_url_data(subUrls[idx_su])\n",
    "        tup = (idx_u, idx_su, data)\n",
    "        dataset.append(tup)\n",
    "        "
   ]
  },
  {
   "cell_type": "code",
   "execution_count": null,
   "metadata": {},
   "outputs": [],
   "source": [
    "df = pd.DataFrame(dataset, columns =['GroupId', 'SubGroupId', 'Q&A'])"
   ]
  },
  {
   "cell_type": "code",
   "execution_count": null,
   "metadata": {},
   "outputs": [],
   "source": [
    "df"
   ]
  },
  {
   "cell_type": "code",
   "execution_count": null,
   "metadata": {},
   "outputs": [],
   "source": [
    "SubGroups = []\n",
    "Urls = getUrls(main_url)\n",
    "\n",
    "for idx_u in range(len(Urls)):\n",
    "    subUrls = getSubUrls(Urls[idx_u])"
   ]
  },
  {
   "cell_type": "code",
   "execution_count": null,
   "metadata": {},
   "outputs": [],
   "source": [
    "SubGroups"
   ]
  },
  {
   "cell_type": "code",
   "execution_count": null,
   "metadata": {},
   "outputs": [],
   "source": [
    "import itertools\n",
    "\n",
    "categories = list(itertools.chain.from_iterable(SubGroups))\n",
    "\n",
    "categories"
   ]
  },
  {
   "cell_type": "code",
   "execution_count": null,
   "metadata": {},
   "outputs": [],
   "source": [
    "df[\"Categories\"] = categories\n",
    "df"
   ]
  },
  {
   "cell_type": "code",
   "execution_count": null,
   "metadata": {},
   "outputs": [],
   "source": [
    "#for subgroup in df[\"Q&A\"]:\n",
    "#    for page in subgroup:\n",
    "#        for qna in page:\n",
    "#            print(qna)\n",
    "#            print()\n",
    "            "
   ]
  },
  {
   "cell_type": "code",
   "execution_count": null,
   "metadata": {},
   "outputs": [],
   "source": [
    "for sg in dataset:\n",
    "    print(sg[0:2], categories[dataset.index(sg)] )"
   ]
  },
  {
   "cell_type": "code",
   "execution_count": null,
   "metadata": {
    "scrolled": false
   },
   "outputs": [],
   "source": [
    "#for sg in dataset:\n",
    "#    for pgId in range(len(sg[2])):\n",
    "#        print(sg[0:2],pgId)"
   ]
  },
  {
   "cell_type": "code",
   "execution_count": null,
   "metadata": {},
   "outputs": [],
   "source": [
    "data = []\n",
    "for sg in dataset:\n",
    "    for pgId in range(len(sg[2])):\n",
    "        #print(sg[0:2],pgId, sg[2][pgId])\n",
    "        \n",
    "        for qna in sg[2][pgId]:\n",
    "            #print(qna)\n",
    "            list_qna = qna.split(\"\\n\")\n",
    "            list_qna.pop()\n",
    "            list_qna.pop()\n",
    "            processed_qna = \"\\n\".join(list_qna)\n",
    "            #print(sg[0:2],processed_qna)\n",
    "            new_tup = (sg[0],sg[1],categories[dataset.index(sg)] ,processed_qna)\n",
    "            data.append(new_tup)\n",
    "            #print(\"***********\")"
   ]
  },
  {
   "cell_type": "code",
   "execution_count": null,
   "metadata": {},
   "outputs": [],
   "source": [
    "df = pd.DataFrame(data, columns =['GroupId', 'SubGroupId', 'Categories','Q&A'])\n",
    "df"
   ]
  },
  {
   "cell_type": "code",
   "execution_count": null,
   "metadata": {},
   "outputs": [],
   "source": [
    "# testUniqueness()\n",
    "qnaList = df[\"Q&A\"]\n",
    "qnaSet = set(qnaList)\n",
    "\n",
    "print(len(qnaSet),len(qnaList))"
   ]
  },
  {
   "cell_type": "code",
   "execution_count": null,
   "metadata": {},
   "outputs": [],
   "source": [
    "#duplicates\n",
    "dup = df[df.duplicated(keep = \"first\")]\n",
    "dup"
   ]
  },
  {
   "cell_type": "code",
   "execution_count": null,
   "metadata": {},
   "outputs": [],
   "source": [
    "df = df.drop_duplicates( keep = \"first\" ,inplace = False)"
   ]
  },
  {
   "cell_type": "code",
   "execution_count": null,
   "metadata": {},
   "outputs": [],
   "source": [
    "print(df.shape)"
   ]
  },
  {
   "cell_type": "code",
   "execution_count": null,
   "metadata": {},
   "outputs": [],
   "source": [
    "df = df.reset_index(drop=True)\n",
    "df"
   ]
  },
  {
   "cell_type": "code",
   "execution_count": null,
   "metadata": {},
   "outputs": [],
   "source": [
    "dup = df[df.duplicated(keep = \"first\")]\n",
    "dup"
   ]
  },
  {
   "cell_type": "code",
   "execution_count": null,
   "metadata": {},
   "outputs": [],
   "source": [
    "df.head(10)"
   ]
  },
  {
   "cell_type": "code",
   "execution_count": null,
   "metadata": {},
   "outputs": [],
   "source": [
    "#export_csv = df.to_csv (\"./labeled_qnas.csv\", header=True) \n",
    "#export_xlsx = df.to_excel(\"./labeled_qnas.xlsx\", header=True) "
   ]
  }
 ],
 "metadata": {
  "kernelspec": {
   "display_name": "Python 3",
   "language": "python",
   "name": "python3"
  },
  "language_info": {
   "codemirror_mode": {
    "name": "ipython",
    "version": 3
   },
   "file_extension": ".py",
   "mimetype": "text/x-python",
   "name": "python",
   "nbconvert_exporter": "python",
   "pygments_lexer": "ipython3",
   "version": "3.7.3"
  }
 },
 "nbformat": 4,
 "nbformat_minor": 2
}
