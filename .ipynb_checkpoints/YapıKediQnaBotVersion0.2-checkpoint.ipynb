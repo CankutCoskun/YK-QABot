{
 "cells": [
  {
   "cell_type": "code",
   "execution_count": 3,
   "metadata": {},
   "outputs": [],
   "source": [
    "from gensim.models import Word2Vec\n",
    "from gensim.test.utils import get_tmpfile\n",
    "from gensim.models import KeyedVectors\n",
    "import requests\n",
    "import operator"
   ]
  },
  {
   "cell_type": "code",
   "execution_count": 2,
   "metadata": {},
   "outputs": [],
   "source": [
    "def removeCharacter(list_of_sent , char):\n",
    "    new_list = []\n",
    "    for each in list_of_sent:\n",
    "        to_be_added = each.replace(char, \"\")\n",
    "        new_list.append(to_be_added)\n",
    "    return new_list"
   ]
  },
  {
   "cell_type": "code",
   "execution_count": 4,
   "metadata": {},
   "outputs": [],
   "source": [
    "##Upload a pre-trained model \n",
    "###Corpus details:\n",
    "##Retrieved from bloomberght.com \n",
    "##Processed with zemberek (nlp tool for Turkish)\n",
    "\n",
    "model = KeyedVectors.load('/Users/cankutcoskun/Desktop/ChatBotProject/Word2VecModel/myModel')\n",
    "word_vectors = model.wv"
   ]
  },
  {
   "cell_type": "code",
   "execution_count": null,
   "metadata": {},
   "outputs": [],
   "source": [
    "vocabulary = list(model.wv.vocab.keys())"
   ]
  },
  {
   "cell_type": "code",
   "execution_count": 9,
   "metadata": {},
   "outputs": [
    {
     "data": {
      "text/plain": [
       "[('mevduat', 0.3644489347934723),\n",
       " ('birik', 0.3414798080921173),\n",
       " ('müşteri', 0.33389052748680115),\n",
       " ('anapara', 0.3327251672744751),\n",
       " ('hamil', 0.32192540168762207),\n",
       " ('bakiye', 0.3143095374107361),\n",
       " ('gecelik', 0.312488317489624),\n",
       " ('stok', 0.29650354385375977),\n",
       " ('demografik', 0.29053130745887756),\n",
       " ('zincirle', 0.28291386365890503)]"
      ]
     },
     "execution_count": 9,
     "metadata": {},
     "output_type": "execute_result"
    }
   ],
   "source": [
    "word_vectors.most_similar('kredi')"
   ]
  },
  {
   "cell_type": "code",
   "execution_count": 10,
   "metadata": {},
   "outputs": [
    {
     "data": {
      "text/plain": [
       "[('lira', 0.48952096700668335),\n",
       " ('avro', 0.47706037759780884),\n",
       " ('tl', 0.4681713283061981),\n",
       " ('milyar', 0.4673760235309601),\n",
       " ('milyon', 0.4492310881614685),\n",
       " ('yüzde', 0.4410855174064636),\n",
       " ('euro', 0.43102943897247314),\n",
       " ('ton', 0.4210624694824219),\n",
       " ('yuan', 0.4046459197998047),\n",
       " ('metreküp', 0.40425950288772583)]"
      ]
     },
     "execution_count": 10,
     "metadata": {},
     "output_type": "execute_result"
    }
   ],
   "source": [
    "model.wv.most_similar('dolar')"
   ]
  },
  {
   "cell_type": "code",
   "execution_count": 51,
   "metadata": {},
   "outputs": [
    {
     "data": {
      "text/plain": [
       "[('portföy', 0.46222683787345886),\n",
       " ('lira', 0.3256343603134155),\n",
       " ('bes', 0.3190995454788208),\n",
       " ('spk', 0.31646543741226196),\n",
       " ('bul', 0.30947861075401306),\n",
       " ('mevduat', 0.30295905470848083),\n",
       " ('kefalet', 0.2914610505104065),\n",
       " ('tutar', 0.28386789560317993),\n",
       " ('cins', 0.28286242485046387),\n",
       " ('azami', 0.2773037254810333)]"
      ]
     },
     "execution_count": 51,
     "metadata": {},
     "output_type": "execute_result"
    }
   ],
   "source": [
    "model.wv.most_similar('fon')"
   ]
  },
  {
   "cell_type": "code",
   "execution_count": 54,
   "metadata": {},
   "outputs": [
    {
     "data": {
      "text/plain": [
       "[('world', 0.5274510383605957),\n",
       " ('worldpuan', 0.5205917358398438),\n",
       " ('işyeri', 0.4832378029823303),\n",
       " ('opet', 0.4584534168243408),\n",
       " ('görüntüle', 0.4282114803791046),\n",
       " ('buton', 0.41686904430389404),\n",
       " ('atm', 0.41127100586891174),\n",
       " ('cache', 0.4084949195384979),\n",
       " ('havale', 0.40351155400276184),\n",
       " ('dekont', 0.3964722156524658)]"
      ]
     },
     "execution_count": 54,
     "metadata": {},
     "output_type": "execute_result"
    }
   ],
   "source": [
    "model.wv.most_similar('worldcard')"
   ]
  },
  {
   "cell_type": "code",
   "execution_count": 57,
   "metadata": {},
   "outputs": [
    {
     "data": {
      "text/plain": [
       "[('cinsi', 0.3910001516342163),\n",
       " ('yp', 0.3662889003753662),\n",
       " ('kredi', 0.3644489347934723),\n",
       " ('ınvest', 0.33348819613456726),\n",
       " ('tutar', 0.32037368416786194),\n",
       " ('ilave', 0.3180745244026184),\n",
       " ('oğuz', 0.3119198977947235),\n",
       " ('gecelik', 0.30777889490127563),\n",
       " ('lira', 0.30577677488327026),\n",
       " ('fon', 0.30295905470848083)]"
      ]
     },
     "execution_count": 57,
     "metadata": {},
     "output_type": "execute_result"
    }
   ],
   "source": [
    "model.wv.most_similar('mevduat')"
   ]
  },
  {
   "cell_type": "code",
   "execution_count": 15,
   "metadata": {},
   "outputs": [],
   "source": [
    "questions = []\n",
    "answers = []\n",
    "\n",
    "f_q = open(\"/Users/cankutcoskun/Desktop/ChatBotProject/QnA/questions.txt\")\n",
    "f_a = open(\"/Users/cankutcoskun/Desktop/ChatBotProject/QnA/answers.txt\")\n",
    "\n",
    "questions = removeCharacter(f_q.readlines(), \"\\n\")\n",
    "answers = removeCharacter(f_a.readlines(), \"\\n\")\n",
    "\n",
    "\n",
    "f_q.close()\n",
    "f_a.close()"
   ]
  },
  {
   "cell_type": "code",
   "execution_count": 16,
   "metadata": {},
   "outputs": [
    {
     "name": "stdout",
     "output_type": "stream",
     "text": [
      "393 393\n"
     ]
    }
   ],
   "source": [
    "print(len(questions),len(answers))"
   ]
  },
  {
   "cell_type": "code",
   "execution_count": 60,
   "metadata": {},
   "outputs": [],
   "source": [
    "def processDocument(path):\n",
    "    \n",
    "    PARAMS = {'rawDocPathName': path}\n",
    "    response = requests.get(\"http://localhost:8080/nlpPipeLine/document\", params = PARAMS)\n",
    "    \n",
    "    if response.status_code == requests.codes.ok:\n",
    "        resp_text = response.text\n",
    "        resp_list = resp_text.rstrip(\"]\").lstrip(\"[\").replace('\"','').split(\"],[\")\n",
    "\n",
    "        all_tokens = []\n",
    "\n",
    "        for r in resp_list:\n",
    "            tokens = r.split(\",\")\n",
    "            all_tokens.append(tokens)\n",
    "    \n",
    "        \n",
    "        return all_tokens\n",
    "\n",
    "    else:\n",
    "        raise Exception(\" -processDocument() WARNING REQUEST DOES NOT WORK PROPERLY \\n response code: \" + str(response.status_code))"
   ]
  },
  {
   "cell_type": "code",
   "execution_count": 20,
   "metadata": {},
   "outputs": [],
   "source": [
    "processed_questions = processDocument(\"/Users/cankutcoskun/Desktop/ChatBotProject/QnA/questions.txt\")\n",
    "processed_answers = processDocument(\"/Users/cankutcoskun/Desktop/ChatBotProject/QnA/answers.txt\")\n",
    "##Edge\n",
    "processed_answers[145] = []\n",
    "processed_qnas = [a + b for a, b in zip(processed_questions, processed_answers)]"
   ]
  },
  {
   "cell_type": "code",
   "execution_count": 48,
   "metadata": {},
   "outputs": [],
   "source": [
    "def similarity_scores(inp):\n",
    "    similarity_scores = []\n",
    "    for idx in range(len(processed_questions)):\n",
    "        \n",
    "        try:\n",
    "            similarity_score = model.wv.n_similarity(processed_qnas[idx], inp)\n",
    "            similarity_scores.append(similarity_score)\n",
    "        except:\n",
    "            print(\"WARNING EMPTY INPUT\")\n",
    "            \n",
    "    return similarity_scores"
   ]
  },
  {
   "cell_type": "code",
   "execution_count": 49,
   "metadata": {},
   "outputs": [],
   "source": [
    "def checkInputWords(input_tokens):\n",
    "    returnList = []\n",
    "    for word in input_tokens:\n",
    "        if word in vocabulary:\n",
    "            returnList.append(word)\n",
    "    return returnList"
   ]
  },
  {
   "cell_type": "code",
   "execution_count": 50,
   "metadata": {},
   "outputs": [],
   "source": [
    "def processInput(raw_inp):\n",
    "    \n",
    "    emptyList = []\n",
    "    \n",
    "    PARAMS = {'rawInput':raw_inp} \n",
    "\n",
    "    response = requests.get(\"http://localhost:8080/nlpPipeLine/SingleInput\", params = PARAMS)\n",
    "    \n",
    "    print(\"Response Code: \", response.status_code,\"\\n\")\n",
    "\n",
    "    if response.status_code == requests.codes.ok:\n",
    "        text = response.text\n",
    "        input_tokens = text.rstrip(\"]\").lstrip(\"[\").replace('\"','').split(\",\")\n",
    "        \n",
    "        return checkInputWords(input_tokens)\n",
    "        \n",
    "    else:\n",
    "        raise Exception(\"WARNING EXCEPTION OCCURED processInput()\")\n",
    "        "
   ]
  },
  {
   "cell_type": "code",
   "execution_count": 30,
   "metadata": {},
   "outputs": [],
   "source": [
    "def rankingTable(scores):\n",
    "    ranking_table = []\n",
    "\n",
    "    for i in range(len(scores)):\n",
    "        temp = (i,scores[i])\n",
    "        ranking_table.append(temp)\n",
    "        \n",
    "    return ranking_table"
   ]
  },
  {
   "cell_type": "code",
   "execution_count": 40,
   "metadata": {},
   "outputs": [],
   "source": [
    "def topResponses(inp):\n",
    "    processed_input = processInput(inp)\n",
    "    scores = similarity_scores(processed_input)\n",
    "    ranking_table = rankingTable(scores)\n",
    "    ranking_table.sort(key = operator.itemgetter(1),reverse = True)\n",
    "    topResp = []\n",
    "    for tup in ranking_table[0:5]:\n",
    "        idx = tup[0]\n",
    "        topResp.append(idx)\n",
    "        #print(tup[1])\n",
    "    return topResp"
   ]
  },
  {
   "cell_type": "code",
   "execution_count": 47,
   "metadata": {
    "scrolled": true
   },
   "outputs": [
    {
     "name": "stdout",
     "output_type": "stream",
     "text": [
      "Sonlandırmak için lütfen 'çıkış' yazın \n",
      "\n"
     ]
    },
    {
     "ename": "KeyboardInterrupt",
     "evalue": "",
     "output_type": "error",
     "traceback": [
      "\u001b[0;31m---------------------------------------------------------------------------\u001b[0m",
      "\u001b[0;31mKeyboardInterrupt\u001b[0m                         Traceback (most recent call last)",
      "\u001b[0;32m/Library/Frameworks/Python.framework/Versions/3.7/lib/python3.7/site-packages/ipykernel/kernelbase.py\u001b[0m in \u001b[0;36m_input_request\u001b[0;34m(self, prompt, ident, parent, password)\u001b[0m\n\u001b[1;32m    884\u001b[0m             \u001b[0;32mtry\u001b[0m\u001b[0;34m:\u001b[0m\u001b[0;34m\u001b[0m\u001b[0;34m\u001b[0m\u001b[0m\n\u001b[0;32m--> 885\u001b[0;31m                 \u001b[0mident\u001b[0m\u001b[0;34m,\u001b[0m \u001b[0mreply\u001b[0m \u001b[0;34m=\u001b[0m \u001b[0mself\u001b[0m\u001b[0;34m.\u001b[0m\u001b[0msession\u001b[0m\u001b[0;34m.\u001b[0m\u001b[0mrecv\u001b[0m\u001b[0;34m(\u001b[0m\u001b[0mself\u001b[0m\u001b[0;34m.\u001b[0m\u001b[0mstdin_socket\u001b[0m\u001b[0;34m,\u001b[0m \u001b[0;36m0\u001b[0m\u001b[0;34m)\u001b[0m\u001b[0;34m\u001b[0m\u001b[0;34m\u001b[0m\u001b[0m\n\u001b[0m\u001b[1;32m    886\u001b[0m             \u001b[0;32mexcept\u001b[0m \u001b[0mException\u001b[0m\u001b[0;34m:\u001b[0m\u001b[0;34m\u001b[0m\u001b[0;34m\u001b[0m\u001b[0m\n",
      "\u001b[0;32m/Library/Frameworks/Python.framework/Versions/3.7/lib/python3.7/site-packages/jupyter_client/session.py\u001b[0m in \u001b[0;36mrecv\u001b[0;34m(self, socket, mode, content, copy)\u001b[0m\n\u001b[1;32m    802\u001b[0m         \u001b[0;32mtry\u001b[0m\u001b[0;34m:\u001b[0m\u001b[0;34m\u001b[0m\u001b[0;34m\u001b[0m\u001b[0m\n\u001b[0;32m--> 803\u001b[0;31m             \u001b[0mmsg_list\u001b[0m \u001b[0;34m=\u001b[0m \u001b[0msocket\u001b[0m\u001b[0;34m.\u001b[0m\u001b[0mrecv_multipart\u001b[0m\u001b[0;34m(\u001b[0m\u001b[0mmode\u001b[0m\u001b[0;34m,\u001b[0m \u001b[0mcopy\u001b[0m\u001b[0;34m=\u001b[0m\u001b[0mcopy\u001b[0m\u001b[0;34m)\u001b[0m\u001b[0;34m\u001b[0m\u001b[0;34m\u001b[0m\u001b[0m\n\u001b[0m\u001b[1;32m    804\u001b[0m         \u001b[0;32mexcept\u001b[0m \u001b[0mzmq\u001b[0m\u001b[0;34m.\u001b[0m\u001b[0mZMQError\u001b[0m \u001b[0;32mas\u001b[0m \u001b[0me\u001b[0m\u001b[0;34m:\u001b[0m\u001b[0;34m\u001b[0m\u001b[0;34m\u001b[0m\u001b[0m\n",
      "\u001b[0;32m/Library/Frameworks/Python.framework/Versions/3.7/lib/python3.7/site-packages/zmq/sugar/socket.py\u001b[0m in \u001b[0;36mrecv_multipart\u001b[0;34m(self, flags, copy, track)\u001b[0m\n\u001b[1;32m    469\u001b[0m         \"\"\"\n\u001b[0;32m--> 470\u001b[0;31m         \u001b[0mparts\u001b[0m \u001b[0;34m=\u001b[0m \u001b[0;34m[\u001b[0m\u001b[0mself\u001b[0m\u001b[0;34m.\u001b[0m\u001b[0mrecv\u001b[0m\u001b[0;34m(\u001b[0m\u001b[0mflags\u001b[0m\u001b[0;34m,\u001b[0m \u001b[0mcopy\u001b[0m\u001b[0;34m=\u001b[0m\u001b[0mcopy\u001b[0m\u001b[0;34m,\u001b[0m \u001b[0mtrack\u001b[0m\u001b[0;34m=\u001b[0m\u001b[0mtrack\u001b[0m\u001b[0;34m)\u001b[0m\u001b[0;34m]\u001b[0m\u001b[0;34m\u001b[0m\u001b[0;34m\u001b[0m\u001b[0m\n\u001b[0m\u001b[1;32m    471\u001b[0m         \u001b[0;31m# have first part already, only loop while more to receive\u001b[0m\u001b[0;34m\u001b[0m\u001b[0;34m\u001b[0m\u001b[0;34m\u001b[0m\u001b[0m\n",
      "\u001b[0;32mzmq/backend/cython/socket.pyx\u001b[0m in \u001b[0;36mzmq.backend.cython.socket.Socket.recv\u001b[0;34m()\u001b[0m\n",
      "\u001b[0;32mzmq/backend/cython/socket.pyx\u001b[0m in \u001b[0;36mzmq.backend.cython.socket.Socket.recv\u001b[0;34m()\u001b[0m\n",
      "\u001b[0;32mzmq/backend/cython/socket.pyx\u001b[0m in \u001b[0;36mzmq.backend.cython.socket._recv_copy\u001b[0;34m()\u001b[0m\n",
      "\u001b[0;32m/Library/Frameworks/Python.framework/Versions/3.7/lib/python3.7/site-packages/zmq/backend/cython/checkrc.pxd\u001b[0m in \u001b[0;36mzmq.backend.cython.checkrc._check_rc\u001b[0;34m()\u001b[0m\n",
      "\u001b[0;31mKeyboardInterrupt\u001b[0m: ",
      "\nDuring handling of the above exception, another exception occurred:\n",
      "\u001b[0;31mKeyboardInterrupt\u001b[0m                         Traceback (most recent call last)",
      "\u001b[0;32m<ipython-input-47-209298c1855f>\u001b[0m in \u001b[0;36m<module>\u001b[0;34m\u001b[0m\n\u001b[1;32m      1\u001b[0m \u001b[0mprint\u001b[0m\u001b[0;34m(\u001b[0m\u001b[0;34m\"Sonlandırmak için lütfen 'çıkış' yazın \\n\"\u001b[0m\u001b[0;34m)\u001b[0m\u001b[0;34m\u001b[0m\u001b[0;34m\u001b[0m\u001b[0m\n\u001b[0;32m----> 2\u001b[0;31m \u001b[0minp\u001b[0m \u001b[0;34m=\u001b[0m \u001b[0minput\u001b[0m\u001b[0;34m(\u001b[0m\u001b[0;34m\"Ne öğrenmek istersin? \\n\\n\"\u001b[0m\u001b[0;34m)\u001b[0m\u001b[0;34m\u001b[0m\u001b[0;34m\u001b[0m\u001b[0m\n\u001b[0m\u001b[1;32m      3\u001b[0m \u001b[0;34m\u001b[0m\u001b[0m\n\u001b[1;32m      4\u001b[0m \u001b[0;32mwhile\u001b[0m \u001b[0minp\u001b[0m \u001b[0;34m!=\u001b[0m \u001b[0;34m\"çıkış\"\u001b[0m\u001b[0;34m:\u001b[0m\u001b[0;34m\u001b[0m\u001b[0;34m\u001b[0m\u001b[0m\n\u001b[1;32m      5\u001b[0m \u001b[0;34m\u001b[0m\u001b[0m\n",
      "\u001b[0;32m/Library/Frameworks/Python.framework/Versions/3.7/lib/python3.7/site-packages/ipykernel/kernelbase.py\u001b[0m in \u001b[0;36mraw_input\u001b[0;34m(self, prompt)\u001b[0m\n\u001b[1;32m    858\u001b[0m             \u001b[0mself\u001b[0m\u001b[0;34m.\u001b[0m\u001b[0m_parent_ident\u001b[0m\u001b[0;34m,\u001b[0m\u001b[0;34m\u001b[0m\u001b[0;34m\u001b[0m\u001b[0m\n\u001b[1;32m    859\u001b[0m             \u001b[0mself\u001b[0m\u001b[0;34m.\u001b[0m\u001b[0m_parent_header\u001b[0m\u001b[0;34m,\u001b[0m\u001b[0;34m\u001b[0m\u001b[0;34m\u001b[0m\u001b[0m\n\u001b[0;32m--> 860\u001b[0;31m             \u001b[0mpassword\u001b[0m\u001b[0;34m=\u001b[0m\u001b[0;32mFalse\u001b[0m\u001b[0;34m,\u001b[0m\u001b[0;34m\u001b[0m\u001b[0;34m\u001b[0m\u001b[0m\n\u001b[0m\u001b[1;32m    861\u001b[0m         )\n\u001b[1;32m    862\u001b[0m \u001b[0;34m\u001b[0m\u001b[0m\n",
      "\u001b[0;32m/Library/Frameworks/Python.framework/Versions/3.7/lib/python3.7/site-packages/ipykernel/kernelbase.py\u001b[0m in \u001b[0;36m_input_request\u001b[0;34m(self, prompt, ident, parent, password)\u001b[0m\n\u001b[1;32m    888\u001b[0m             \u001b[0;32mexcept\u001b[0m \u001b[0mKeyboardInterrupt\u001b[0m\u001b[0;34m:\u001b[0m\u001b[0;34m\u001b[0m\u001b[0;34m\u001b[0m\u001b[0m\n\u001b[1;32m    889\u001b[0m                 \u001b[0;31m# re-raise KeyboardInterrupt, to truncate traceback\u001b[0m\u001b[0;34m\u001b[0m\u001b[0;34m\u001b[0m\u001b[0;34m\u001b[0m\u001b[0m\n\u001b[0;32m--> 890\u001b[0;31m                 \u001b[0;32mraise\u001b[0m \u001b[0mKeyboardInterrupt\u001b[0m\u001b[0;34m\u001b[0m\u001b[0;34m\u001b[0m\u001b[0m\n\u001b[0m\u001b[1;32m    891\u001b[0m             \u001b[0;32melse\u001b[0m\u001b[0;34m:\u001b[0m\u001b[0;34m\u001b[0m\u001b[0;34m\u001b[0m\u001b[0m\n\u001b[1;32m    892\u001b[0m                 \u001b[0;32mbreak\u001b[0m\u001b[0;34m\u001b[0m\u001b[0;34m\u001b[0m\u001b[0m\n",
      "\u001b[0;31mKeyboardInterrupt\u001b[0m: "
     ]
    }
   ],
   "source": [
    "print(\"Sonlandırmak için lütfen 'çıkış' yazın \\n\")\n",
    "inp = input(\"Ne öğrenmek istersin? \\n\\n\") \n",
    "\n",
    "while inp != \"çıkış\":\n",
    "    \n",
    "    ids = topResponses(inp)\n",
    "    for idx in ids:\n",
    "        print(idx)\n",
    "        print(questions[idx])\n",
    "    #    print(answers[idx])\n",
    "\n",
    "    inp = input(\"Ne öğrenmek istersin?  \\n\\n\")\n",
    "                "
   ]
  }
 ],
 "metadata": {
  "kernelspec": {
   "display_name": "Python 3",
   "language": "python",
   "name": "python3"
  },
  "language_info": {
   "codemirror_mode": {
    "name": "ipython",
    "version": 3
   },
   "file_extension": ".py",
   "mimetype": "text/x-python",
   "name": "python",
   "nbconvert_exporter": "python",
   "pygments_lexer": "ipython3",
   "version": "3.7.3"
  }
 },
 "nbformat": 4,
 "nbformat_minor": 2
}
