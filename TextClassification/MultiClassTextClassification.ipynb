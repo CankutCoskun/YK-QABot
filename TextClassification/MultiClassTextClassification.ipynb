{
 "cells": [
  {
   "cell_type": "markdown",
   "metadata": {},
   "source": [
    "### Multi Class Text Classification for Yapı Kredi FAQs"
   ]
  },
  {
   "cell_type": "code",
   "execution_count": 1,
   "metadata": {},
   "outputs": [],
   "source": [
    "import pandas as pd\n",
    "import requests"
   ]
  },
  {
   "cell_type": "code",
   "execution_count": 2,
   "metadata": {
    "scrolled": false
   },
   "outputs": [
    {
     "data": {
      "text/html": [
       "<div>\n",
       "<style scoped>\n",
       "    .dataframe tbody tr th:only-of-type {\n",
       "        vertical-align: middle;\n",
       "    }\n",
       "\n",
       "    .dataframe tbody tr th {\n",
       "        vertical-align: top;\n",
       "    }\n",
       "\n",
       "    .dataframe thead th {\n",
       "        text-align: right;\n",
       "    }\n",
       "</style>\n",
       "<table border=\"1\" class=\"dataframe\">\n",
       "  <thead>\n",
       "    <tr style=\"text-align: right;\">\n",
       "      <th></th>\n",
       "      <th>GroupId</th>\n",
       "      <th>SubGroupId</th>\n",
       "      <th>Categories</th>\n",
       "      <th>Q&amp;A</th>\n",
       "    </tr>\n",
       "  </thead>\n",
       "  <tbody>\n",
       "    <tr>\n",
       "      <th>0</th>\n",
       "      <td>0</td>\n",
       "      <td>0</td>\n",
       "      <td>Web Formları</td>\n",
       "      <td>Web sitesi üzerinden yaptığım başvuruyu nasıl ...</td>\n",
       "    </tr>\n",
       "    <tr>\n",
       "      <th>1</th>\n",
       "      <td>0</td>\n",
       "      <td>0</td>\n",
       "      <td>Web Formları</td>\n",
       "      <td>Kredi kartı başvurumu nereden yapabilirim?\\nTü...</td>\n",
       "    </tr>\n",
       "    <tr>\n",
       "      <th>2</th>\n",
       "      <td>0</td>\n",
       "      <td>0</td>\n",
       "      <td>Web Formları</td>\n",
       "      <td>Web sitesi üzerinden yabancı uyruklu müşterile...</td>\n",
       "    </tr>\n",
       "    <tr>\n",
       "      <th>3</th>\n",
       "      <td>0</td>\n",
       "      <td>0</td>\n",
       "      <td>Web Formları</td>\n",
       "      <td>Web sitesinden sadece yeni kredi kartı için mi...</td>\n",
       "    </tr>\n",
       "    <tr>\n",
       "      <th>4</th>\n",
       "      <td>0</td>\n",
       "      <td>0</td>\n",
       "      <td>Web Formları</td>\n",
       "      <td>Kredi kartı şifremi nasıl belirleyebilirim?\\nB...</td>\n",
       "    </tr>\n",
       "    <tr>\n",
       "      <th>5</th>\n",
       "      <td>0</td>\n",
       "      <td>0</td>\n",
       "      <td>Web Formları</td>\n",
       "      <td>Aynı gayrimenkul ilanı için 1 den fazla başvur...</td>\n",
       "    </tr>\n",
       "    <tr>\n",
       "      <th>6</th>\n",
       "      <td>0</td>\n",
       "      <td>0</td>\n",
       "      <td>Web Formları</td>\n",
       "      <td>Başka kişiler tarafından verilen teklifler hak...</td>\n",
       "    </tr>\n",
       "    <tr>\n",
       "      <th>7</th>\n",
       "      <td>0</td>\n",
       "      <td>0</td>\n",
       "      <td>Web Formları</td>\n",
       "      <td>Burada belirtilen fiyatın üzerine KDV eklenece...</td>\n",
       "    </tr>\n",
       "    <tr>\n",
       "      <th>8</th>\n",
       "      <td>0</td>\n",
       "      <td>0</td>\n",
       "      <td>Web Formları</td>\n",
       "      <td>Gayrimenkuller ile ilgili daha detaylı bilgi a...</td>\n",
       "    </tr>\n",
       "    <tr>\n",
       "      <th>9</th>\n",
       "      <td>0</td>\n",
       "      <td>0</td>\n",
       "      <td>Web Formları</td>\n",
       "      <td>Vadeli teklif vermek veya ödemenin taksitlere ...</td>\n",
       "    </tr>\n",
       "  </tbody>\n",
       "</table>\n",
       "</div>"
      ],
      "text/plain": [
       "   GroupId  SubGroupId    Categories  \\\n",
       "0        0           0  Web Formları   \n",
       "1        0           0  Web Formları   \n",
       "2        0           0  Web Formları   \n",
       "3        0           0  Web Formları   \n",
       "4        0           0  Web Formları   \n",
       "5        0           0  Web Formları   \n",
       "6        0           0  Web Formları   \n",
       "7        0           0  Web Formları   \n",
       "8        0           0  Web Formları   \n",
       "9        0           0  Web Formları   \n",
       "\n",
       "                                                 Q&A  \n",
       "0  Web sitesi üzerinden yaptığım başvuruyu nasıl ...  \n",
       "1  Kredi kartı başvurumu nereden yapabilirim?\\nTü...  \n",
       "2  Web sitesi üzerinden yabancı uyruklu müşterile...  \n",
       "3  Web sitesinden sadece yeni kredi kartı için mi...  \n",
       "4  Kredi kartı şifremi nasıl belirleyebilirim?\\nB...  \n",
       "5  Aynı gayrimenkul ilanı için 1 den fazla başvur...  \n",
       "6  Başka kişiler tarafından verilen teklifler hak...  \n",
       "7  Burada belirtilen fiyatın üzerine KDV eklenece...  \n",
       "8  Gayrimenkuller ile ilgili daha detaylı bilgi a...  \n",
       "9  Vadeli teklif vermek veya ödemenin taksitlere ...  "
      ]
     },
     "execution_count": 2,
     "metadata": {},
     "output_type": "execute_result"
    }
   ],
   "source": [
    "df = pd.read_csv(\"labeled_qnas.csv\",index_col = 0)\n",
    "\n",
    "df.head(10)"
   ]
  },
  {
   "cell_type": "code",
   "execution_count": 3,
   "metadata": {},
   "outputs": [
    {
     "data": {
      "text/html": [
       "<div>\n",
       "<style scoped>\n",
       "    .dataframe tbody tr th:only-of-type {\n",
       "        vertical-align: middle;\n",
       "    }\n",
       "\n",
       "    .dataframe tbody tr th {\n",
       "        vertical-align: top;\n",
       "    }\n",
       "\n",
       "    .dataframe thead th {\n",
       "        text-align: right;\n",
       "    }\n",
       "</style>\n",
       "<table border=\"1\" class=\"dataframe\">\n",
       "  <thead>\n",
       "    <tr style=\"text-align: right;\">\n",
       "      <th></th>\n",
       "      <th>Categories</th>\n",
       "      <th>Q&amp;A</th>\n",
       "    </tr>\n",
       "  </thead>\n",
       "  <tbody>\n",
       "    <tr>\n",
       "      <th>0</th>\n",
       "      <td>Web Formları</td>\n",
       "      <td>Web sitesi üzerinden yaptığım başvuruyu nasıl ...</td>\n",
       "    </tr>\n",
       "    <tr>\n",
       "      <th>1</th>\n",
       "      <td>Web Formları</td>\n",
       "      <td>Kredi kartı başvurumu nereden yapabilirim?\\nTü...</td>\n",
       "    </tr>\n",
       "    <tr>\n",
       "      <th>2</th>\n",
       "      <td>Web Formları</td>\n",
       "      <td>Web sitesi üzerinden yabancı uyruklu müşterile...</td>\n",
       "    </tr>\n",
       "    <tr>\n",
       "      <th>3</th>\n",
       "      <td>Web Formları</td>\n",
       "      <td>Web sitesinden sadece yeni kredi kartı için mi...</td>\n",
       "    </tr>\n",
       "    <tr>\n",
       "      <th>4</th>\n",
       "      <td>Web Formları</td>\n",
       "      <td>Kredi kartı şifremi nasıl belirleyebilirim?\\nB...</td>\n",
       "    </tr>\n",
       "  </tbody>\n",
       "</table>\n",
       "</div>"
      ],
      "text/plain": [
       "     Categories                                                Q&A\n",
       "0  Web Formları  Web sitesi üzerinden yaptığım başvuruyu nasıl ...\n",
       "1  Web Formları  Kredi kartı başvurumu nereden yapabilirim?\\nTü...\n",
       "2  Web Formları  Web sitesi üzerinden yabancı uyruklu müşterile...\n",
       "3  Web Formları  Web sitesinden sadece yeni kredi kartı için mi...\n",
       "4  Web Formları  Kredi kartı şifremi nasıl belirleyebilirim?\\nB..."
      ]
     },
     "execution_count": 3,
     "metadata": {},
     "output_type": "execute_result"
    }
   ],
   "source": [
    "col = ['Categories', 'Q&A']\n",
    "df = df[col]\n",
    "df.head()"
   ]
  },
  {
   "cell_type": "code",
   "execution_count": 4,
   "metadata": {},
   "outputs": [],
   "source": [
    "df.columns = ['Category', 'QnA']\n",
    "df[\"Category_Id\"] = df['Category'].factorize()[0]"
   ]
  },
  {
   "cell_type": "code",
   "execution_count": 5,
   "metadata": {},
   "outputs": [],
   "source": [
    "category_id_df = df[['Category', 'Category_Id']].drop_duplicates().sort_values('Category_Id')\n",
    "category_to_id = dict(category_id_df.values)\n",
    "id_to_category = dict(category_id_df[['Category_Id', 'Category']].values)"
   ]
  },
  {
   "cell_type": "code",
   "execution_count": 6,
   "metadata": {},
   "outputs": [
    {
     "data": {
      "text/html": [
       "<div>\n",
       "<style scoped>\n",
       "    .dataframe tbody tr th:only-of-type {\n",
       "        vertical-align: middle;\n",
       "    }\n",
       "\n",
       "    .dataframe tbody tr th {\n",
       "        vertical-align: top;\n",
       "    }\n",
       "\n",
       "    .dataframe thead th {\n",
       "        text-align: right;\n",
       "    }\n",
       "</style>\n",
       "<table border=\"1\" class=\"dataframe\">\n",
       "  <thead>\n",
       "    <tr style=\"text-align: right;\">\n",
       "      <th></th>\n",
       "      <th>Category</th>\n",
       "      <th>Category_Id</th>\n",
       "    </tr>\n",
       "  </thead>\n",
       "  <tbody>\n",
       "    <tr>\n",
       "      <th>0</th>\n",
       "      <td>Web Formları</td>\n",
       "      <td>0</td>\n",
       "    </tr>\n",
       "    <tr>\n",
       "      <th>24</th>\n",
       "      <td>Mobil Bankacılık</td>\n",
       "      <td>1</td>\n",
       "    </tr>\n",
       "    <tr>\n",
       "      <th>32</th>\n",
       "      <td>İnternet Şubesi</td>\n",
       "      <td>2</td>\n",
       "    </tr>\n",
       "    <tr>\n",
       "      <th>78</th>\n",
       "      <td>Güvenlik Ürünleri</td>\n",
       "      <td>3</td>\n",
       "    </tr>\n",
       "    <tr>\n",
       "      <th>120</th>\n",
       "      <td>ATM</td>\n",
       "      <td>4</td>\n",
       "    </tr>\n",
       "    <tr>\n",
       "      <th>152</th>\n",
       "      <td>Üye İşyeri</td>\n",
       "      <td>5</td>\n",
       "    </tr>\n",
       "    <tr>\n",
       "      <th>187</th>\n",
       "      <td>Kredi Kartları</td>\n",
       "      <td>6</td>\n",
       "    </tr>\n",
       "    <tr>\n",
       "      <th>285</th>\n",
       "      <td>Banka Kartları</td>\n",
       "      <td>7</td>\n",
       "    </tr>\n",
       "    <tr>\n",
       "      <th>292</th>\n",
       "      <td>Vadesiz Hesap</td>\n",
       "      <td>8</td>\n",
       "    </tr>\n",
       "    <tr>\n",
       "      <th>294</th>\n",
       "      <td>Genel</td>\n",
       "      <td>9</td>\n",
       "    </tr>\n",
       "    <tr>\n",
       "      <th>298</th>\n",
       "      <td>Vadeli Hesap</td>\n",
       "      <td>10</td>\n",
       "    </tr>\n",
       "    <tr>\n",
       "      <th>300</th>\n",
       "      <td>Altın Hesabı</td>\n",
       "      <td>11</td>\n",
       "    </tr>\n",
       "    <tr>\n",
       "      <th>303</th>\n",
       "      <td>Konut</td>\n",
       "      <td>12</td>\n",
       "    </tr>\n",
       "    <tr>\n",
       "      <th>319</th>\n",
       "      <td>Esnek Hesap</td>\n",
       "      <td>13</td>\n",
       "    </tr>\n",
       "    <tr>\n",
       "      <th>326</th>\n",
       "      <td>Taşıt</td>\n",
       "      <td>14</td>\n",
       "    </tr>\n",
       "    <tr>\n",
       "      <th>342</th>\n",
       "      <td>Bireysel İhtiyaç</td>\n",
       "      <td>15</td>\n",
       "    </tr>\n",
       "    <tr>\n",
       "      <th>362</th>\n",
       "      <td>SWIFT</td>\n",
       "      <td>16</td>\n",
       "    </tr>\n",
       "    <tr>\n",
       "      <th>363</th>\n",
       "      <td>Düzenli Ödeme</td>\n",
       "      <td>17</td>\n",
       "    </tr>\n",
       "  </tbody>\n",
       "</table>\n",
       "</div>"
      ],
      "text/plain": [
       "              Category  Category_Id\n",
       "0         Web Formları            0\n",
       "24    Mobil Bankacılık            1\n",
       "32     İnternet Şubesi            2\n",
       "78   Güvenlik Ürünleri            3\n",
       "120                ATM            4\n",
       "152         Üye İşyeri            5\n",
       "187     Kredi Kartları            6\n",
       "285     Banka Kartları            7\n",
       "292      Vadesiz Hesap            8\n",
       "294              Genel            9\n",
       "298       Vadeli Hesap           10\n",
       "300       Altın Hesabı           11\n",
       "303              Konut           12\n",
       "319        Esnek Hesap           13\n",
       "326              Taşıt           14\n",
       "342   Bireysel İhtiyaç           15\n",
       "362              SWIFT           16\n",
       "363      Düzenli Ödeme           17"
      ]
     },
     "execution_count": 6,
     "metadata": {},
     "output_type": "execute_result"
    }
   ],
   "source": [
    "category_id_df"
   ]
  },
  {
   "cell_type": "code",
   "execution_count": 7,
   "metadata": {},
   "outputs": [],
   "source": [
    "category_id_df.to_csv('categories.csv', index= False)"
   ]
  },
  {
   "cell_type": "code",
   "execution_count": 8,
   "metadata": {
    "scrolled": true
   },
   "outputs": [
    {
     "data": {
      "text/plain": [
       "{'Web Formları': 0,\n",
       " 'Mobil Bankacılık': 1,\n",
       " 'İnternet Şubesi': 2,\n",
       " 'Güvenlik Ürünleri': 3,\n",
       " 'ATM': 4,\n",
       " 'Üye İşyeri': 5,\n",
       " 'Kredi Kartları': 6,\n",
       " 'Banka Kartları': 7,\n",
       " 'Vadesiz Hesap': 8,\n",
       " 'Genel': 9,\n",
       " 'Vadeli Hesap': 10,\n",
       " 'Altın Hesabı': 11,\n",
       " 'Konut': 12,\n",
       " 'Esnek Hesap': 13,\n",
       " 'Taşıt': 14,\n",
       " 'Bireysel İhtiyaç': 15,\n",
       " 'SWIFT': 16,\n",
       " 'Düzenli Ödeme': 17}"
      ]
     },
     "execution_count": 8,
     "metadata": {},
     "output_type": "execute_result"
    }
   ],
   "source": [
    "category_to_id"
   ]
  },
  {
   "cell_type": "code",
   "execution_count": 10,
   "metadata": {},
   "outputs": [
    {
     "data": {
      "text/html": [
       "<div>\n",
       "<style scoped>\n",
       "    .dataframe tbody tr th:only-of-type {\n",
       "        vertical-align: middle;\n",
       "    }\n",
       "\n",
       "    .dataframe tbody tr th {\n",
       "        vertical-align: top;\n",
       "    }\n",
       "\n",
       "    .dataframe thead th {\n",
       "        text-align: right;\n",
       "    }\n",
       "</style>\n",
       "<table border=\"1\" class=\"dataframe\">\n",
       "  <thead>\n",
       "    <tr style=\"text-align: right;\">\n",
       "      <th></th>\n",
       "      <th>Category</th>\n",
       "      <th>QnA</th>\n",
       "      <th>Category_Id</th>\n",
       "    </tr>\n",
       "  </thead>\n",
       "  <tbody>\n",
       "    <tr>\n",
       "      <th>0</th>\n",
       "      <td>Web Formları</td>\n",
       "      <td>Web sitesi üzerinden yaptığım başvuruyu nasıl ...</td>\n",
       "      <td>0</td>\n",
       "    </tr>\n",
       "    <tr>\n",
       "      <th>1</th>\n",
       "      <td>Web Formları</td>\n",
       "      <td>Kredi kartı başvurumu nereden yapabilirim?\\nTü...</td>\n",
       "      <td>0</td>\n",
       "    </tr>\n",
       "    <tr>\n",
       "      <th>2</th>\n",
       "      <td>Web Formları</td>\n",
       "      <td>Web sitesi üzerinden yabancı uyruklu müşterile...</td>\n",
       "      <td>0</td>\n",
       "    </tr>\n",
       "    <tr>\n",
       "      <th>3</th>\n",
       "      <td>Web Formları</td>\n",
       "      <td>Web sitesinden sadece yeni kredi kartı için mi...</td>\n",
       "      <td>0</td>\n",
       "    </tr>\n",
       "    <tr>\n",
       "      <th>4</th>\n",
       "      <td>Web Formları</td>\n",
       "      <td>Kredi kartı şifremi nasıl belirleyebilirim?\\nB...</td>\n",
       "      <td>0</td>\n",
       "    </tr>\n",
       "  </tbody>\n",
       "</table>\n",
       "</div>"
      ],
      "text/plain": [
       "       Category                                                QnA  \\\n",
       "0  Web Formları  Web sitesi üzerinden yaptığım başvuruyu nasıl ...   \n",
       "1  Web Formları  Kredi kartı başvurumu nereden yapabilirim?\\nTü...   \n",
       "2  Web Formları  Web sitesi üzerinden yabancı uyruklu müşterile...   \n",
       "3  Web Formları  Web sitesinden sadece yeni kredi kartı için mi...   \n",
       "4  Web Formları  Kredi kartı şifremi nasıl belirleyebilirim?\\nB...   \n",
       "\n",
       "   Category_Id  \n",
       "0            0  \n",
       "1            0  \n",
       "2            0  \n",
       "3            0  \n",
       "4            0  "
      ]
     },
     "execution_count": 10,
     "metadata": {},
     "output_type": "execute_result"
    }
   ],
   "source": [
    "#df.to_csv('dfQuestions.csv', index= False)\n",
    "df.head()"
   ]
  },
  {
   "cell_type": "code",
   "execution_count": 12,
   "metadata": {},
   "outputs": [
    {
     "data": {
      "image/png": "[encoded data removed]",
      "text/plain": [
       "<Figure size 1080x648 with 1 Axes>"
      ]
     },
     "metadata": {
      "needs_background": "light"
     },
     "output_type": "display_data"
    }
   ],
   "source": [
    "import matplotlib.pyplot as plt\n",
    "fig = plt.figure(figsize=(15,9))\n",
    "df.groupby('Category').QnA.count().plot.bar(ylim=0)\n",
    "plt.show()"
   ]
  },
  {
   "cell_type": "code",
   "execution_count": 13,
   "metadata": {},
   "outputs": [
    {
     "data": {
      "text/plain": [
       "(367, 3)"
      ]
     },
     "execution_count": 13,
     "metadata": {},
     "output_type": "execute_result"
    }
   ],
   "source": [
    "df.shape"
   ]
  },
  {
   "cell_type": "markdown",
   "metadata": {},
   "source": [
    "label = Q&A<br>\n",
    "target = CATEGORY"
   ]
  },
  {
   "cell_type": "markdown",
   "metadata": {},
   "source": [
    "## Text Representation\n"
   ]
  },
  {
   "cell_type": "code",
   "execution_count": 16,
   "metadata": {},
   "outputs": [],
   "source": [
    "def processInput(raw_inp):\n",
    "    \n",
    "    emptyList = []\n",
    "    \n",
    "    PARAMS = {'rawInput':raw_inp} \n",
    "\n",
    "    response = requests.get(\"http://localhost:8080/nlpPipeLine/singleInput\", params = PARAMS)\n",
    "    \n",
    "    #print(\"Response Code: \", response.status_code,\"\\n\")\n",
    "\n",
    "    if response.status_code == requests.codes.ok:\n",
    "        text = response.text\n",
    "        input_tokens = text.rstrip(\"]\").lstrip(\"[\").replace('\"','').split(\",\")\n",
    "        \n",
    "        return input_tokens\n",
    "        \n",
    "    else:\n",
    "        raise Exception(\"WARNING EXCEPTION OCCURED processInput()\")"
   ]
  },
  {
   "cell_type": "code",
   "execution_count": 17,
   "metadata": {},
   "outputs": [],
   "source": [
    "qnas = df[\"QnA\"]\n",
    "processed_qnas = []\n",
    "for q in qnas:\n",
    "    temp = q.split(\"\\n\")\n",
    "    raw_qna = \" \".join(temp)\n",
    "    processed_tokens = processInput(raw_qna)\n",
    "    processed_qna = \" \".join(processed_tokens)\n",
    "    processed_qnas.append(processed_qna)\n"
   ]
  },
  {
   "cell_type": "code",
   "execution_count": 18,
   "metadata": {},
   "outputs": [],
   "source": [
    "#Tf idf vectors bag of words model\n",
    "from sklearn.feature_extraction.text import TfidfVectorizer\n",
    "vectorizer = TfidfVectorizer(sublinear_tf=True, ngram_range=(1, 2), max_df=1.0, min_df = 0, use_idf = True)\n",
    "bow = vectorizer.fit_transform(processed_qnas)\n"
   ]
  },
  {
   "cell_type": "code",
   "execution_count": 19,
   "metadata": {},
   "outputs": [
    {
     "data": {
      "text/plain": [
       "(367, 9217)"
      ]
     },
     "execution_count": 19,
     "metadata": {},
     "output_type": "execute_result"
    }
   ],
   "source": [
    "bow.toarray().shape"
   ]
  },
  {
   "cell_type": "code",
   "execution_count": 24,
   "metadata": {
    "scrolled": true
   },
   "outputs": [
    {
     "name": "stdout",
     "output_type": "stream",
     "text": [
      "Number of unique words (unigrams + bigrams) (size of dictionary): 9217\n"
     ]
    }
   ],
   "source": [
    "freqs = [(word, bow.getcol(idx).sum()) for word, idx in vectorizer.vocabulary_.items()]\n",
    "results = sorted (freqs, key = lambda x: -x[1])\n",
    "print(\"Number of unique words (unigrams + bigrams) (size of dictionary):\", len(vectorizer.vocabulary_.items()))"
   ]
  },
  {
   "cell_type": "code",
   "execution_count": 26,
   "metadata": {
    "scrolled": false
   },
   "outputs": [
    {
     "name": "stdout",
     "output_type": "stream",
     "text": [
      "(367, 9217)\n"
     ]
    },
    {
     "data": {
      "text/html": [
       "<div>\n",
       "<style scoped>\n",
       "    .dataframe tbody tr th:only-of-type {\n",
       "        vertical-align: middle;\n",
       "    }\n",
       "\n",
       "    .dataframe tbody tr th {\n",
       "        vertical-align: top;\n",
       "    }\n",
       "\n",
       "    .dataframe thead th {\n",
       "        text-align: right;\n",
       "    }\n",
       "</style>\n",
       "<table border=\"1\" class=\"dataframe\">\n",
       "  <thead>\n",
       "    <tr style=\"text-align: right;\">\n",
       "      <th></th>\n",
       "      <th>abone</th>\n",
       "      <th>abone gerek</th>\n",
       "      <th>abone no</th>\n",
       "      <th>abone numara</th>\n",
       "      <th>abone ol</th>\n",
       "      <th>acil</th>\n",
       "      <th>acil durum</th>\n",
       "      <th>acil kart</th>\n",
       "      <th>acil mesaj</th>\n",
       "      <th>acil müdahale</th>\n",
       "      <th>...</th>\n",
       "      <th>şube ön</th>\n",
       "      <th>şube öncelik</th>\n",
       "      <th>şube öner</th>\n",
       "      <th>şube öğren</th>\n",
       "      <th>şube üye</th>\n",
       "      <th>şube üzeri</th>\n",
       "      <th>şube şifre</th>\n",
       "      <th>şube şube</th>\n",
       "      <th>şüphe</th>\n",
       "      <th>şüphe karşıla</th>\n",
       "    </tr>\n",
       "  </thead>\n",
       "  <tbody>\n",
       "    <tr>\n",
       "      <th>0</th>\n",
       "      <td>0.0</td>\n",
       "      <td>0.0</td>\n",
       "      <td>0.0</td>\n",
       "      <td>0.0</td>\n",
       "      <td>0.0</td>\n",
       "      <td>0.0</td>\n",
       "      <td>0.0</td>\n",
       "      <td>0.0</td>\n",
       "      <td>0.0</td>\n",
       "      <td>0.0</td>\n",
       "      <td>...</td>\n",
       "      <td>0.0</td>\n",
       "      <td>0.0</td>\n",
       "      <td>0.0</td>\n",
       "      <td>0.0</td>\n",
       "      <td>0.0</td>\n",
       "      <td>0.0</td>\n",
       "      <td>0.0</td>\n",
       "      <td>0.0</td>\n",
       "      <td>0.0</td>\n",
       "      <td>0.0</td>\n",
       "    </tr>\n",
       "    <tr>\n",
       "      <th>1</th>\n",
       "      <td>0.0</td>\n",
       "      <td>0.0</td>\n",
       "      <td>0.0</td>\n",
       "      <td>0.0</td>\n",
       "      <td>0.0</td>\n",
       "      <td>0.0</td>\n",
       "      <td>0.0</td>\n",
       "      <td>0.0</td>\n",
       "      <td>0.0</td>\n",
       "      <td>0.0</td>\n",
       "      <td>...</td>\n",
       "      <td>0.0</td>\n",
       "      <td>0.0</td>\n",
       "      <td>0.0</td>\n",
       "      <td>0.0</td>\n",
       "      <td>0.0</td>\n",
       "      <td>0.0</td>\n",
       "      <td>0.0</td>\n",
       "      <td>0.0</td>\n",
       "      <td>0.0</td>\n",
       "      <td>0.0</td>\n",
       "    </tr>\n",
       "    <tr>\n",
       "      <th>2</th>\n",
       "      <td>0.0</td>\n",
       "      <td>0.0</td>\n",
       "      <td>0.0</td>\n",
       "      <td>0.0</td>\n",
       "      <td>0.0</td>\n",
       "      <td>0.0</td>\n",
       "      <td>0.0</td>\n",
       "      <td>0.0</td>\n",
       "      <td>0.0</td>\n",
       "      <td>0.0</td>\n",
       "      <td>...</td>\n",
       "      <td>0.0</td>\n",
       "      <td>0.0</td>\n",
       "      <td>0.0</td>\n",
       "      <td>0.0</td>\n",
       "      <td>0.0</td>\n",
       "      <td>0.0</td>\n",
       "      <td>0.0</td>\n",
       "      <td>0.0</td>\n",
       "      <td>0.0</td>\n",
       "      <td>0.0</td>\n",
       "    </tr>\n",
       "    <tr>\n",
       "      <th>3</th>\n",
       "      <td>0.0</td>\n",
       "      <td>0.0</td>\n",
       "      <td>0.0</td>\n",
       "      <td>0.0</td>\n",
       "      <td>0.0</td>\n",
       "      <td>0.0</td>\n",
       "      <td>0.0</td>\n",
       "      <td>0.0</td>\n",
       "      <td>0.0</td>\n",
       "      <td>0.0</td>\n",
       "      <td>...</td>\n",
       "      <td>0.0</td>\n",
       "      <td>0.0</td>\n",
       "      <td>0.0</td>\n",
       "      <td>0.0</td>\n",
       "      <td>0.0</td>\n",
       "      <td>0.0</td>\n",
       "      <td>0.0</td>\n",
       "      <td>0.0</td>\n",
       "      <td>0.0</td>\n",
       "      <td>0.0</td>\n",
       "    </tr>\n",
       "    <tr>\n",
       "      <th>4</th>\n",
       "      <td>0.0</td>\n",
       "      <td>0.0</td>\n",
       "      <td>0.0</td>\n",
       "      <td>0.0</td>\n",
       "      <td>0.0</td>\n",
       "      <td>0.0</td>\n",
       "      <td>0.0</td>\n",
       "      <td>0.0</td>\n",
       "      <td>0.0</td>\n",
       "      <td>0.0</td>\n",
       "      <td>...</td>\n",
       "      <td>0.0</td>\n",
       "      <td>0.0</td>\n",
       "      <td>0.0</td>\n",
       "      <td>0.0</td>\n",
       "      <td>0.0</td>\n",
       "      <td>0.0</td>\n",
       "      <td>0.0</td>\n",
       "      <td>0.0</td>\n",
       "      <td>0.0</td>\n",
       "      <td>0.0</td>\n",
       "    </tr>\n",
       "  </tbody>\n",
       "</table>\n",
       "<p>5 rows × 9217 columns</p>\n",
       "</div>"
      ],
      "text/plain": [
       "   abone  abone gerek  abone no  abone numara  abone ol  acil  acil durum  \\\n",
       "0    0.0          0.0       0.0           0.0       0.0   0.0         0.0   \n",
       "1    0.0          0.0       0.0           0.0       0.0   0.0         0.0   \n",
       "2    0.0          0.0       0.0           0.0       0.0   0.0         0.0   \n",
       "3    0.0          0.0       0.0           0.0       0.0   0.0         0.0   \n",
       "4    0.0          0.0       0.0           0.0       0.0   0.0         0.0   \n",
       "\n",
       "   acil kart  acil mesaj  acil müdahale  ...  şube ön  şube öncelik  \\\n",
       "0        0.0         0.0            0.0  ...      0.0           0.0   \n",
       "1        0.0         0.0            0.0  ...      0.0           0.0   \n",
       "2        0.0         0.0            0.0  ...      0.0           0.0   \n",
       "3        0.0         0.0            0.0  ...      0.0           0.0   \n",
       "4        0.0         0.0            0.0  ...      0.0           0.0   \n",
       "\n",
       "   şube öner  şube öğren  şube üye  şube üzeri  şube şifre  şube şube  şüphe  \\\n",
       "0        0.0         0.0       0.0         0.0         0.0        0.0    0.0   \n",
       "1        0.0         0.0       0.0         0.0         0.0        0.0    0.0   \n",
       "2        0.0         0.0       0.0         0.0         0.0        0.0    0.0   \n",
       "3        0.0         0.0       0.0         0.0         0.0        0.0    0.0   \n",
       "4        0.0         0.0       0.0         0.0         0.0        0.0    0.0   \n",
       "\n",
       "   şüphe karşıla  \n",
       "0            0.0  \n",
       "1            0.0  \n",
       "2            0.0  \n",
       "3            0.0  \n",
       "4            0.0  \n",
       "\n",
       "[5 rows x 9217 columns]"
      ]
     },
     "execution_count": 26,
     "metadata": {},
     "output_type": "execute_result"
    }
   ],
   "source": [
    "feature_names = vectorizer.get_feature_names()\n",
    "corpus_index = [n for n in processed_qnas]\n",
    "\n",
    "df_tfidf = pd.DataFrame(bow.todense(), columns=feature_names)\n",
    "\n",
    "#( num of questions , size of vocab)\n",
    "print(df_tfidf.shape)\n",
    "\n",
    "df_tfidf.head()"
   ]
  },
  {
   "cell_type": "code",
   "execution_count": 28,
   "metadata": {},
   "outputs": [],
   "source": [
    "features = bow.toarray()\n",
    "labels = df.Category_Id"
   ]
  },
  {
   "cell_type": "code",
   "execution_count": 29,
   "metadata": {},
   "outputs": [
    {
     "name": "stdout",
     "output_type": "stream",
     "text": [
      "(367, 9217)\n"
     ]
    }
   ],
   "source": [
    "#The training input samples\n",
    "#[n_samples, n_features]\n",
    "print(features.shape)\n"
   ]
  },
  {
   "cell_type": "code",
   "execution_count": 30,
   "metadata": {},
   "outputs": [
    {
     "data": {
      "text/plain": [
       "(367,)"
      ]
     },
     "execution_count": 30,
     "metadata": {},
     "output_type": "execute_result"
    }
   ],
   "source": [
    "#The target values (class labels in classification)\n",
    "#[n_samples]\n",
    "labels.shape"
   ]
  },
  {
   "cell_type": "markdown",
   "metadata": {},
   "source": [
    "## Machine Learning Models"
   ]
  },
  {
   "cell_type": "code",
   "execution_count": 35,
   "metadata": {},
   "outputs": [
    {
     "name": "stderr",
     "output_type": "stream",
     "text": [
      "/Library/Frameworks/Python.framework/Versions/3.7/lib/python3.7/site-packages/sklearn/model_selection/_split.py:657: Warning: The least populated class in y has only 1 members, which is too few. The minimum number of members in any class cannot be less than n_splits=5.\n",
      "  % (min_groups, self.n_splits)), Warning)\n",
      "/Library/Frameworks/Python.framework/Versions/3.7/lib/python3.7/site-packages/sklearn/model_selection/_split.py:657: Warning: The least populated class in y has only 1 members, which is too few. The minimum number of members in any class cannot be less than n_splits=5.\n",
      "  % (min_groups, self.n_splits)), Warning)\n",
      "/Library/Frameworks/Python.framework/Versions/3.7/lib/python3.7/site-packages/sklearn/model_selection/_split.py:657: Warning: The least populated class in y has only 1 members, which is too few. The minimum number of members in any class cannot be less than n_splits=5.\n",
      "  % (min_groups, self.n_splits)), Warning)\n",
      "/Library/Frameworks/Python.framework/Versions/3.7/lib/python3.7/site-packages/sklearn/model_selection/_split.py:657: Warning: The least populated class in y has only 1 members, which is too few. The minimum number of members in any class cannot be less than n_splits=5.\n",
      "  % (min_groups, self.n_splits)), Warning)\n",
      "/Library/Frameworks/Python.framework/Versions/3.7/lib/python3.7/site-packages/sklearn/linear_model/logistic.py:432: FutureWarning: Default solver will be changed to 'lbfgs' in 0.22. Specify a solver to silence this warning.\n",
      "  FutureWarning)\n",
      "/Library/Frameworks/Python.framework/Versions/3.7/lib/python3.7/site-packages/sklearn/linear_model/logistic.py:469: FutureWarning: Default multi_class will be changed to 'auto' in 0.22. Specify the multi_class option to silence this warning.\n",
      "  \"this warning.\", FutureWarning)\n",
      "/Library/Frameworks/Python.framework/Versions/3.7/lib/python3.7/site-packages/sklearn/linear_model/logistic.py:432: FutureWarning: Default solver will be changed to 'lbfgs' in 0.22. Specify a solver to silence this warning.\n",
      "  FutureWarning)\n",
      "/Library/Frameworks/Python.framework/Versions/3.7/lib/python3.7/site-packages/sklearn/linear_model/logistic.py:469: FutureWarning: Default multi_class will be changed to 'auto' in 0.22. Specify the multi_class option to silence this warning.\n",
      "  \"this warning.\", FutureWarning)\n",
      "/Library/Frameworks/Python.framework/Versions/3.7/lib/python3.7/site-packages/sklearn/linear_model/logistic.py:432: FutureWarning: Default solver will be changed to 'lbfgs' in 0.22. Specify a solver to silence this warning.\n",
      "  FutureWarning)\n",
      "/Library/Frameworks/Python.framework/Versions/3.7/lib/python3.7/site-packages/sklearn/linear_model/logistic.py:469: FutureWarning: Default multi_class will be changed to 'auto' in 0.22. Specify the multi_class option to silence this warning.\n",
      "  \"this warning.\", FutureWarning)\n",
      "/Library/Frameworks/Python.framework/Versions/3.7/lib/python3.7/site-packages/sklearn/linear_model/logistic.py:432: FutureWarning: Default solver will be changed to 'lbfgs' in 0.22. Specify a solver to silence this warning.\n",
      "  FutureWarning)\n",
      "/Library/Frameworks/Python.framework/Versions/3.7/lib/python3.7/site-packages/sklearn/linear_model/logistic.py:469: FutureWarning: Default multi_class will be changed to 'auto' in 0.22. Specify the multi_class option to silence this warning.\n",
      "  \"this warning.\", FutureWarning)\n",
      "/Library/Frameworks/Python.framework/Versions/3.7/lib/python3.7/site-packages/sklearn/linear_model/logistic.py:432: FutureWarning: Default solver will be changed to 'lbfgs' in 0.22. Specify a solver to silence this warning.\n",
      "  FutureWarning)\n",
      "/Library/Frameworks/Python.framework/Versions/3.7/lib/python3.7/site-packages/sklearn/linear_model/logistic.py:469: FutureWarning: Default multi_class will be changed to 'auto' in 0.22. Specify the multi_class option to silence this warning.\n",
      "  \"this warning.\", FutureWarning)\n"
     ]
    }
   ],
   "source": [
    "from sklearn.model_selection import train_test_split\n",
    "from sklearn.feature_extraction.text import CountVectorizer\n",
    "from sklearn.feature_extraction.text import TfidfTransformer\n",
    "\n",
    "from sklearn.linear_model import LogisticRegression\n",
    "from sklearn.ensemble import RandomForestClassifier\n",
    "from sklearn.naive_bayes import MultinomialNB\n",
    "from sklearn.svm import LinearSVC\n",
    "\n",
    "#The fit time scales at least quadratically with the number of samples and may be impractical beyond tens of thousands of samples\n",
    "from sklearn.svm import SVC\n",
    "\n",
    "from sklearn.model_selection import cross_val_score\n",
    "\n",
    "models = [\n",
    "    RandomForestClassifier(n_estimators=200, max_depth=3, random_state=0),\n",
    "    LinearSVC(),\n",
    "    MultinomialNB(),\n",
    "    LogisticRegression(random_state=0),\n",
    "]\n",
    "\n",
    "CV = 5\n",
    "cv_df = pd.DataFrame(index=range(CV * len(models)))\n",
    "entries = []\n",
    "for model in models:\n",
    "    model_name = model.__class__.__name__\n",
    "    accuracies = cross_val_score(model, features, labels, scoring='accuracy', cv=CV)\n",
    "    for fold_idx, accuracy in enumerate(accuracies):\n",
    "        entries.append((model_name, fold_idx, accuracy))\n",
    "        \n",
    "cv_df = pd.DataFrame(entries, columns=['model_name', 'fold_idx', 'accuracy'])"
   ]
  },
  {
   "cell_type": "code",
   "execution_count": 36,
   "metadata": {},
   "outputs": [
    {
     "data": {
      "text/html": [
       "<div>\n",
       "<style scoped>\n",
       "    .dataframe tbody tr th:only-of-type {\n",
       "        vertical-align: middle;\n",
       "    }\n",
       "\n",
       "    .dataframe tbody tr th {\n",
       "        vertical-align: top;\n",
       "    }\n",
       "\n",
       "    .dataframe thead th {\n",
       "        text-align: right;\n",
       "    }\n",
       "</style>\n",
       "<table border=\"1\" class=\"dataframe\">\n",
       "  <thead>\n",
       "    <tr style=\"text-align: right;\">\n",
       "      <th></th>\n",
       "      <th>model_name</th>\n",
       "      <th>fold_idx</th>\n",
       "      <th>accuracy</th>\n",
       "    </tr>\n",
       "  </thead>\n",
       "  <tbody>\n",
       "    <tr>\n",
       "      <th>0</th>\n",
       "      <td>RandomForestClassifier</td>\n",
       "      <td>0</td>\n",
       "      <td>0.256098</td>\n",
       "    </tr>\n",
       "    <tr>\n",
       "      <th>1</th>\n",
       "      <td>RandomForestClassifier</td>\n",
       "      <td>1</td>\n",
       "      <td>0.256410</td>\n",
       "    </tr>\n",
       "    <tr>\n",
       "      <th>2</th>\n",
       "      <td>RandomForestClassifier</td>\n",
       "      <td>2</td>\n",
       "      <td>0.305556</td>\n",
       "    </tr>\n",
       "    <tr>\n",
       "      <th>3</th>\n",
       "      <td>RandomForestClassifier</td>\n",
       "      <td>3</td>\n",
       "      <td>0.304348</td>\n",
       "    </tr>\n",
       "    <tr>\n",
       "      <th>4</th>\n",
       "      <td>RandomForestClassifier</td>\n",
       "      <td>4</td>\n",
       "      <td>0.363636</td>\n",
       "    </tr>\n",
       "    <tr>\n",
       "      <th>5</th>\n",
       "      <td>LinearSVC</td>\n",
       "      <td>0</td>\n",
       "      <td>0.646341</td>\n",
       "    </tr>\n",
       "    <tr>\n",
       "      <th>6</th>\n",
       "      <td>LinearSVC</td>\n",
       "      <td>1</td>\n",
       "      <td>0.769231</td>\n",
       "    </tr>\n",
       "    <tr>\n",
       "      <th>7</th>\n",
       "      <td>LinearSVC</td>\n",
       "      <td>2</td>\n",
       "      <td>0.805556</td>\n",
       "    </tr>\n",
       "    <tr>\n",
       "      <th>8</th>\n",
       "      <td>LinearSVC</td>\n",
       "      <td>3</td>\n",
       "      <td>0.855072</td>\n",
       "    </tr>\n",
       "    <tr>\n",
       "      <th>9</th>\n",
       "      <td>LinearSVC</td>\n",
       "      <td>4</td>\n",
       "      <td>0.848485</td>\n",
       "    </tr>\n",
       "    <tr>\n",
       "      <th>10</th>\n",
       "      <td>MultinomialNB</td>\n",
       "      <td>0</td>\n",
       "      <td>0.280488</td>\n",
       "    </tr>\n",
       "    <tr>\n",
       "      <th>11</th>\n",
       "      <td>MultinomialNB</td>\n",
       "      <td>1</td>\n",
       "      <td>0.320513</td>\n",
       "    </tr>\n",
       "    <tr>\n",
       "      <th>12</th>\n",
       "      <td>MultinomialNB</td>\n",
       "      <td>2</td>\n",
       "      <td>0.361111</td>\n",
       "    </tr>\n",
       "    <tr>\n",
       "      <th>13</th>\n",
       "      <td>MultinomialNB</td>\n",
       "      <td>3</td>\n",
       "      <td>0.391304</td>\n",
       "    </tr>\n",
       "    <tr>\n",
       "      <th>14</th>\n",
       "      <td>MultinomialNB</td>\n",
       "      <td>4</td>\n",
       "      <td>0.378788</td>\n",
       "    </tr>\n",
       "    <tr>\n",
       "      <th>15</th>\n",
       "      <td>LogisticRegression</td>\n",
       "      <td>0</td>\n",
       "      <td>0.341463</td>\n",
       "    </tr>\n",
       "    <tr>\n",
       "      <th>16</th>\n",
       "      <td>LogisticRegression</td>\n",
       "      <td>1</td>\n",
       "      <td>0.423077</td>\n",
       "    </tr>\n",
       "    <tr>\n",
       "      <th>17</th>\n",
       "      <td>LogisticRegression</td>\n",
       "      <td>2</td>\n",
       "      <td>0.472222</td>\n",
       "    </tr>\n",
       "    <tr>\n",
       "      <th>18</th>\n",
       "      <td>LogisticRegression</td>\n",
       "      <td>3</td>\n",
       "      <td>0.492754</td>\n",
       "    </tr>\n",
       "    <tr>\n",
       "      <th>19</th>\n",
       "      <td>LogisticRegression</td>\n",
       "      <td>4</td>\n",
       "      <td>0.515152</td>\n",
       "    </tr>\n",
       "  </tbody>\n",
       "</table>\n",
       "</div>"
      ],
      "text/plain": [
       "                model_name  fold_idx  accuracy\n",
       "0   RandomForestClassifier         0  0.256098\n",
       "1   RandomForestClassifier         1  0.256410\n",
       "2   RandomForestClassifier         2  0.305556\n",
       "3   RandomForestClassifier         3  0.304348\n",
       "4   RandomForestClassifier         4  0.363636\n",
       "5                LinearSVC         0  0.646341\n",
       "6                LinearSVC         1  0.769231\n",
       "7                LinearSVC         2  0.805556\n",
       "8                LinearSVC         3  0.855072\n",
       "9                LinearSVC         4  0.848485\n",
       "10           MultinomialNB         0  0.280488\n",
       "11           MultinomialNB         1  0.320513\n",
       "12           MultinomialNB         2  0.361111\n",
       "13           MultinomialNB         3  0.391304\n",
       "14           MultinomialNB         4  0.378788\n",
       "15      LogisticRegression         0  0.341463\n",
       "16      LogisticRegression         1  0.423077\n",
       "17      LogisticRegression         2  0.472222\n",
       "18      LogisticRegression         3  0.492754\n",
       "19      LogisticRegression         4  0.515152"
      ]
     },
     "execution_count": 36,
     "metadata": {},
     "output_type": "execute_result"
    }
   ],
   "source": [
    "cv_df"
   ]
  },
  {
   "cell_type": "markdown",
   "metadata": {},
   "source": [
    "### Accuracy Scores"
   ]
  },
  {
   "cell_type": "code",
   "execution_count": 37,
   "metadata": {},
   "outputs": [
    {
     "data": {
      "text/plain": [
       "model_name\n",
       "LinearSVC                 0.784937\n",
       "LogisticRegression        0.448934\n",
       "MultinomialNB             0.346441\n",
       "RandomForestClassifier    0.297210\n",
       "Name: accuracy, dtype: float64"
      ]
     },
     "execution_count": 37,
     "metadata": {},
     "output_type": "execute_result"
    }
   ],
   "source": [
    "cv_df.groupby('model_name').accuracy.mean()"
   ]
  },
  {
   "cell_type": "markdown",
   "metadata": {},
   "source": [
    "### Support Vector Machines"
   ]
  },
  {
   "cell_type": "code",
   "execution_count": 38,
   "metadata": {},
   "outputs": [],
   "source": [
    "model = LinearSVC()\n",
    "\n",
    "X_train, X_test, y_train, y_test, indices_train, indices_test = train_test_split(features, labels, df.index, test_size=0.33, random_state=2)\n",
    "model.fit(X_train, y_train)\n",
    "y_pred = model.predict(X_test)"
   ]
  },
  {
   "cell_type": "code",
   "execution_count": 39,
   "metadata": {},
   "outputs": [],
   "source": [
    "import seaborn as sns"
   ]
  },
  {
   "cell_type": "code",
   "execution_count": 40,
   "metadata": {},
   "outputs": [
    {
     "data": {
      "image/png": "[encoded data removed]",
      "text/plain": [
       "<Figure size 1080x648 with 2 Axes>"
      ]
     },
     "metadata": {
      "needs_background": "light"
     },
     "output_type": "display_data"
    }
   ],
   "source": [
    "from sklearn.metrics import confusion_matrix\n",
    "\n",
    "conf_mat = confusion_matrix(y_test, y_pred)\n",
    "fig, ax = plt.subplots(figsize=(15,9))\n",
    "sns.heatmap(conf_mat, annot=True, fmt='d',\n",
    "            xticklabels=category_id_df.Category.values, yticklabels=category_id_df.Category.values)\n",
    "plt.ylabel('Actual')\n",
    "plt.xlabel('Predicted')\n",
    "plt.show()"
   ]
  },
  {
   "cell_type": "code",
   "execution_count": 41,
   "metadata": {},
   "outputs": [
    {
     "data": {
      "text/plain": [
       "array([[ 5,  0,  1,  0,  0,  0,  3,  0,  0,  0,  0,  0,  0,  0,  0,  0],\n",
       "       [ 0,  1,  2,  2,  0,  0,  0,  0,  0,  0,  0,  0,  0,  0,  0,  0],\n",
       "       [ 0,  0,  8,  1,  0,  0,  4,  0,  0,  0,  0,  0,  0,  0,  0,  0],\n",
       "       [ 0,  0,  0, 11,  0,  0,  0,  0,  0,  0,  0,  0,  0,  0,  0,  0],\n",
       "       [ 0,  0,  0,  0, 10,  0,  1,  0,  0,  0,  0,  0,  0,  0,  0,  0],\n",
       "       [ 0,  0,  0,  0,  0, 12,  3,  0,  0,  0,  0,  0,  0,  0,  0,  0],\n",
       "       [ 0,  0,  0,  1,  0,  0, 32,  0,  0,  0,  0,  0,  0,  0,  0,  0],\n",
       "       [ 0,  0,  0,  0,  0,  0,  0,  2,  0,  0,  0,  0,  0,  0,  0,  0],\n",
       "       [ 0,  0,  0,  0,  0,  0,  0,  0,  0,  0,  1,  0,  0,  0,  0,  0],\n",
       "       [ 0,  0,  0,  0,  1,  0,  0,  0,  0,  0,  0,  0,  0,  0,  0,  0],\n",
       "       [ 0,  0,  0,  0,  1,  0,  0,  0,  0,  0,  0,  0,  0,  0,  0,  0],\n",
       "       [ 0,  0,  0,  0,  0,  0,  1,  0,  0,  0,  0,  5,  0,  0,  1,  0],\n",
       "       [ 0,  0,  0,  0,  0,  0,  1,  0,  0,  0,  0,  0,  1,  0,  0,  0],\n",
       "       [ 0,  0,  0,  0,  0,  0,  1,  0,  0,  0,  0,  0,  0,  3,  1,  0],\n",
       "       [ 0,  0,  0,  0,  0,  0,  0,  0,  0,  0,  0,  0,  0,  0,  5,  0],\n",
       "       [ 0,  0,  0,  0,  0,  0,  1,  0,  0,  0,  0,  0,  0,  0,  0,  0]])"
      ]
     },
     "execution_count": 41,
     "metadata": {},
     "output_type": "execute_result"
    }
   ],
   "source": [
    "conf_mat"
   ]
  },
  {
   "cell_type": "code",
   "execution_count": 42,
   "metadata": {},
   "outputs": [
    {
     "data": {
      "text/html": [
       "<div>\n",
       "<style scoped>\n",
       "    .dataframe tbody tr th:only-of-type {\n",
       "        vertical-align: middle;\n",
       "    }\n",
       "\n",
       "    .dataframe tbody tr th {\n",
       "        vertical-align: top;\n",
       "    }\n",
       "\n",
       "    .dataframe thead th {\n",
       "        text-align: right;\n",
       "    }\n",
       "</style>\n",
       "<table border=\"1\" class=\"dataframe\">\n",
       "  <thead>\n",
       "    <tr style=\"text-align: right;\">\n",
       "      <th></th>\n",
       "      <th>Category</th>\n",
       "      <th>Category_Id</th>\n",
       "    </tr>\n",
       "  </thead>\n",
       "  <tbody>\n",
       "    <tr>\n",
       "      <th>0</th>\n",
       "      <td>Web Formları</td>\n",
       "      <td>0</td>\n",
       "    </tr>\n",
       "    <tr>\n",
       "      <th>24</th>\n",
       "      <td>Mobil Bankacılık</td>\n",
       "      <td>1</td>\n",
       "    </tr>\n",
       "    <tr>\n",
       "      <th>32</th>\n",
       "      <td>İnternet Şubesi</td>\n",
       "      <td>2</td>\n",
       "    </tr>\n",
       "    <tr>\n",
       "      <th>78</th>\n",
       "      <td>Güvenlik Ürünleri</td>\n",
       "      <td>3</td>\n",
       "    </tr>\n",
       "    <tr>\n",
       "      <th>120</th>\n",
       "      <td>ATM</td>\n",
       "      <td>4</td>\n",
       "    </tr>\n",
       "    <tr>\n",
       "      <th>152</th>\n",
       "      <td>Üye İşyeri</td>\n",
       "      <td>5</td>\n",
       "    </tr>\n",
       "    <tr>\n",
       "      <th>187</th>\n",
       "      <td>Kredi Kartları</td>\n",
       "      <td>6</td>\n",
       "    </tr>\n",
       "    <tr>\n",
       "      <th>285</th>\n",
       "      <td>Banka Kartları</td>\n",
       "      <td>7</td>\n",
       "    </tr>\n",
       "    <tr>\n",
       "      <th>292</th>\n",
       "      <td>Vadesiz Hesap</td>\n",
       "      <td>8</td>\n",
       "    </tr>\n",
       "    <tr>\n",
       "      <th>294</th>\n",
       "      <td>Genel</td>\n",
       "      <td>9</td>\n",
       "    </tr>\n",
       "    <tr>\n",
       "      <th>298</th>\n",
       "      <td>Vadeli Hesap</td>\n",
       "      <td>10</td>\n",
       "    </tr>\n",
       "    <tr>\n",
       "      <th>300</th>\n",
       "      <td>Altın Hesabı</td>\n",
       "      <td>11</td>\n",
       "    </tr>\n",
       "    <tr>\n",
       "      <th>303</th>\n",
       "      <td>Konut</td>\n",
       "      <td>12</td>\n",
       "    </tr>\n",
       "    <tr>\n",
       "      <th>319</th>\n",
       "      <td>Esnek Hesap</td>\n",
       "      <td>13</td>\n",
       "    </tr>\n",
       "    <tr>\n",
       "      <th>326</th>\n",
       "      <td>Taşıt</td>\n",
       "      <td>14</td>\n",
       "    </tr>\n",
       "    <tr>\n",
       "      <th>342</th>\n",
       "      <td>Bireysel İhtiyaç</td>\n",
       "      <td>15</td>\n",
       "    </tr>\n",
       "    <tr>\n",
       "      <th>362</th>\n",
       "      <td>SWIFT</td>\n",
       "      <td>16</td>\n",
       "    </tr>\n",
       "    <tr>\n",
       "      <th>363</th>\n",
       "      <td>Düzenli Ödeme</td>\n",
       "      <td>17</td>\n",
       "    </tr>\n",
       "  </tbody>\n",
       "</table>\n",
       "</div>"
      ],
      "text/plain": [
       "              Category  Category_Id\n",
       "0         Web Formları            0\n",
       "24    Mobil Bankacılık            1\n",
       "32     İnternet Şubesi            2\n",
       "78   Güvenlik Ürünleri            3\n",
       "120                ATM            4\n",
       "152         Üye İşyeri            5\n",
       "187     Kredi Kartları            6\n",
       "285     Banka Kartları            7\n",
       "292      Vadesiz Hesap            8\n",
       "294              Genel            9\n",
       "298       Vadeli Hesap           10\n",
       "300       Altın Hesabı           11\n",
       "303              Konut           12\n",
       "319        Esnek Hesap           13\n",
       "326              Taşıt           14\n",
       "342   Bireysel İhtiyaç           15\n",
       "362              SWIFT           16\n",
       "363      Düzenli Ödeme           17"
      ]
     },
     "execution_count": 42,
     "metadata": {},
     "output_type": "execute_result"
    }
   ],
   "source": [
    "category_id_df"
   ]
  },
  {
   "cell_type": "code",
   "execution_count": 43,
   "metadata": {},
   "outputs": [
    {
     "name": "stdout",
     "output_type": "stream",
     "text": [
      "'Web Formları' predicted as 'Kredi Kartları' : 3 examples.\n"
     ]
    },
    {
     "data": {
      "text/html": [
       "<div>\n",
       "<style scoped>\n",
       "    .dataframe tbody tr th:only-of-type {\n",
       "        vertical-align: middle;\n",
       "    }\n",
       "\n",
       "    .dataframe tbody tr th {\n",
       "        vertical-align: top;\n",
       "    }\n",
       "\n",
       "    .dataframe thead th {\n",
       "        text-align: right;\n",
       "    }\n",
       "</style>\n",
       "<table border=\"1\" class=\"dataframe\">\n",
       "  <thead>\n",
       "    <tr style=\"text-align: right;\">\n",
       "      <th></th>\n",
       "      <th>Category</th>\n",
       "      <th>QnA</th>\n",
       "    </tr>\n",
       "  </thead>\n",
       "  <tbody>\n",
       "    <tr>\n",
       "      <th>7</th>\n",
       "      <td>Web Formları</td>\n",
       "      <td>Burada belirtilen fiyatın üzerine KDV eklenece...</td>\n",
       "    </tr>\n",
       "    <tr>\n",
       "      <th>3</th>\n",
       "      <td>Web Formları</td>\n",
       "      <td>Web sitesinden sadece yeni kredi kartı için mi...</td>\n",
       "    </tr>\n",
       "    <tr>\n",
       "      <th>10</th>\n",
       "      <td>Web Formları</td>\n",
       "      <td>Gayrimenkulün fiyatı en son ne kadar olur, yet...</td>\n",
       "    </tr>\n",
       "  </tbody>\n",
       "</table>\n",
       "</div>"
      ],
      "text/plain": [
       "        Category                                                QnA\n",
       "7   Web Formları  Burada belirtilen fiyatın üzerine KDV eklenece...\n",
       "3   Web Formları  Web sitesinden sadece yeni kredi kartı için mi...\n",
       "10  Web Formları  Gayrimenkulün fiyatı en son ne kadar olur, yet..."
      ]
     },
     "metadata": {},
     "output_type": "display_data"
    },
    {
     "name": "stdout",
     "output_type": "stream",
     "text": [
      "\n",
      "'İnternet Şubesi' predicted as 'Kredi Kartları' : 4 examples.\n"
     ]
    },
    {
     "data": {
      "text/html": [
       "<div>\n",
       "<style scoped>\n",
       "    .dataframe tbody tr th:only-of-type {\n",
       "        vertical-align: middle;\n",
       "    }\n",
       "\n",
       "    .dataframe tbody tr th {\n",
       "        vertical-align: top;\n",
       "    }\n",
       "\n",
       "    .dataframe thead th {\n",
       "        text-align: right;\n",
       "    }\n",
       "</style>\n",
       "<table border=\"1\" class=\"dataframe\">\n",
       "  <thead>\n",
       "    <tr style=\"text-align: right;\">\n",
       "      <th></th>\n",
       "      <th>Category</th>\n",
       "      <th>QnA</th>\n",
       "    </tr>\n",
       "  </thead>\n",
       "  <tbody>\n",
       "    <tr>\n",
       "      <th>55</th>\n",
       "      <td>İnternet Şubesi</td>\n",
       "      <td>Ön onaylı limit nedir?\\nÖn onaylı limit, banka...</td>\n",
       "    </tr>\n",
       "    <tr>\n",
       "      <th>77</th>\n",
       "      <td>İnternet Şubesi</td>\n",
       "      <td>ATM’de görüntülenen cep telefonu numaram günce...</td>\n",
       "    </tr>\n",
       "    <tr>\n",
       "      <th>60</th>\n",
       "      <td>İnternet Şubesi</td>\n",
       "      <td>Online Analist işlemleri nasıl yapılır?\\nOnlin...</td>\n",
       "    </tr>\n",
       "    <tr>\n",
       "      <th>41</th>\n",
       "      <td>İnternet Şubesi</td>\n",
       "      <td>İnternet Şubesi üzerinden hangi ürünlere başvu...</td>\n",
       "    </tr>\n",
       "  </tbody>\n",
       "</table>\n",
       "</div>"
      ],
      "text/plain": [
       "           Category                                                QnA\n",
       "55  İnternet Şubesi  Ön onaylı limit nedir?\\nÖn onaylı limit, banka...\n",
       "77  İnternet Şubesi  ATM’de görüntülenen cep telefonu numaram günce...\n",
       "60  İnternet Şubesi  Online Analist işlemleri nasıl yapılır?\\nOnlin...\n",
       "41  İnternet Şubesi  İnternet Şubesi üzerinden hangi ürünlere başvu..."
      ]
     },
     "metadata": {},
     "output_type": "display_data"
    },
    {
     "name": "stdout",
     "output_type": "stream",
     "text": [
      "\n",
      "'Üye İşyeri' predicted as 'Kredi Kartları' : 3 examples.\n"
     ]
    },
    {
     "data": {
      "text/html": [
       "<div>\n",
       "<style scoped>\n",
       "    .dataframe tbody tr th:only-of-type {\n",
       "        vertical-align: middle;\n",
       "    }\n",
       "\n",
       "    .dataframe tbody tr th {\n",
       "        vertical-align: top;\n",
       "    }\n",
       "\n",
       "    .dataframe thead th {\n",
       "        text-align: right;\n",
       "    }\n",
       "</style>\n",
       "<table border=\"1\" class=\"dataframe\">\n",
       "  <thead>\n",
       "    <tr style=\"text-align: right;\">\n",
       "      <th></th>\n",
       "      <th>Category</th>\n",
       "      <th>QnA</th>\n",
       "    </tr>\n",
       "  </thead>\n",
       "  <tbody>\n",
       "    <tr>\n",
       "      <th>156</th>\n",
       "      <td>Üye İşyeri</td>\n",
       "      <td>World Ödeme Noktası olmak için ne yapabilirim?...</td>\n",
       "    </tr>\n",
       "    <tr>\n",
       "      <th>166</th>\n",
       "      <td>Üye İşyeri</td>\n",
       "      <td>POSNET (E- ticaret ) başvurumu nasıl yapabilir...</td>\n",
       "    </tr>\n",
       "    <tr>\n",
       "      <th>183</th>\n",
       "      <td>Üye İşyeri</td>\n",
       "      <td>Ekstrelerim düzenli gelmiyor / elime ulaşmıyor...</td>\n",
       "    </tr>\n",
       "  </tbody>\n",
       "</table>\n",
       "</div>"
      ],
      "text/plain": [
       "       Category                                                QnA\n",
       "156  Üye İşyeri  World Ödeme Noktası olmak için ne yapabilirim?...\n",
       "166  Üye İşyeri  POSNET (E- ticaret ) başvurumu nasıl yapabilir...\n",
       "183  Üye İşyeri  Ekstrelerim düzenli gelmiyor / elime ulaşmıyor..."
      ]
     },
     "metadata": {},
     "output_type": "display_data"
    },
    {
     "name": "stdout",
     "output_type": "stream",
     "text": [
      "\n"
     ]
    }
   ],
   "source": [
    "from IPython.display import display\n",
    "\n",
    "for predicted in category_id_df.Category_Id:\n",
    "    for actual in category_id_df.Category_Id:\n",
    "        if conf_mat[0].size > actual  and conf_mat[0].size > predicted:\n",
    "            if predicted != actual and conf_mat[actual, predicted] >= 3:\n",
    "                print(\"'{}' predicted as '{}' : {} examples.\".format(id_to_category[actual], id_to_category[predicted], conf_mat[actual, predicted]))\n",
    "                display(df.loc[indices_test[(y_test == actual) & (y_pred == predicted)]][['Category', 'QnA']])\n",
    "                print('')"
   ]
  },
  {
   "cell_type": "code",
   "execution_count": 44,
   "metadata": {
    "scrolled": false
   },
   "outputs": [
    {
     "name": "stdout",
     "output_type": "stream",
     "text": [
      "                   precision    recall  f1-score   support\n",
      "\n",
      "     Web Formları       1.00      0.56      0.71         9\n",
      " Mobil Bankacılık       1.00      0.20      0.33         5\n",
      "  İnternet Şubesi       0.73      0.62      0.67        13\n",
      "Güvenlik Ürünleri       0.73      1.00      0.85        11\n",
      "              ATM       0.83      0.91      0.87        11\n",
      "       Üye İşyeri       1.00      0.80      0.89        15\n",
      "   Kredi Kartları       0.68      0.97      0.80        33\n",
      "   Banka Kartları       1.00      1.00      1.00         2\n",
      "    Vadesiz Hesap       0.00      0.00      0.00         1\n",
      "            Genel       0.00      0.00      0.00         1\n",
      "     Vadeli Hesap       0.00      0.00      0.00         1\n",
      "     Altın Hesabı       1.00      0.71      0.83         7\n",
      "            Konut       1.00      0.50      0.67         2\n",
      "      Esnek Hesap       1.00      0.60      0.75         5\n",
      "            Taşıt       0.71      1.00      0.83         5\n",
      " Bireysel İhtiyaç       0.00      0.00      0.00         1\n",
      "\n",
      "         accuracy                           0.78       122\n",
      "        macro avg       0.67      0.55      0.58       122\n",
      "     weighted avg       0.80      0.78      0.76       122\n",
      "\n"
     ]
    },
    {
     "name": "stderr",
     "output_type": "stream",
     "text": [
      "/Library/Frameworks/Python.framework/Versions/3.7/lib/python3.7/site-packages/sklearn/metrics/classification.py:1437: UndefinedMetricWarning: Precision and F-score are ill-defined and being set to 0.0 in labels with no predicted samples.\n",
      "  'precision', 'predicted', average, warn_for)\n"
     ]
    }
   ],
   "source": [
    "from sklearn import metrics\n",
    "##Last 2 category did not appear in the test \n",
    "print(metrics.classification_report(y_test, y_pred, target_names=df['Category'].unique()[:conf_mat[0].size]))"
   ]
  },
  {
   "cell_type": "markdown",
   "metadata": {},
   "source": [
    "## Feature Selection <br> "
   ]
  },
  {
   "cell_type": "code",
   "execution_count": 45,
   "metadata": {},
   "outputs": [],
   "source": [
    "from sklearn.feature_selection import chi2\n",
    "from sklearn.feature_selection import SelectKBest\n",
    "import numpy as np"
   ]
  },
  {
   "cell_type": "code",
   "execution_count": 46,
   "metadata": {},
   "outputs": [
    {
     "data": {
      "text/plain": [
       "(367, 9217)"
      ]
     },
     "execution_count": 46,
     "metadata": {},
     "output_type": "execute_result"
    }
   ],
   "source": [
    "## Before selection\n",
    "features.shape"
   ]
  },
  {
   "cell_type": "code",
   "execution_count": 47,
   "metadata": {},
   "outputs": [
    {
     "name": "stdout",
     "output_type": "stream",
     "text": [
      "# 'ATM':\n",
      "  . Most correlated unigrams:\n",
      "       . para\n",
      "       . yatır\n",
      "       . atm\n",
      "  . Most correlated bigrams:\n",
      "       . atm para\n",
      "       . ortak atm\n",
      "       . para yatır\n",
      "# 'Altın Hesabı':\n",
      "  . Most correlated unigrams:\n",
      "       . hesabı\n",
      "       . gram\n",
      "       . altın\n",
      "  . Most correlated bigrams:\n",
      "       . şube kendi\n",
      "       . vade altın\n",
      "       . altın hesap\n",
      "# 'Banka Kartları':\n",
      "  . Most correlated unigrams:\n",
      "       . business\n",
      "       . play\n",
      "       . tlcard\n",
      "  . Most correlated bigrams:\n",
      "       . işlem kolay\n",
      "       . çek dünya\n",
      "       . play tlcard\n",
      "# 'Bireysel İhtiyaç':\n",
      "  . Most correlated unigrams:\n",
      "       . tatil\n",
      "       . sonuç\n",
      "       . evlilik\n",
      "  . Most correlated bigrams:\n",
      "       . ihtiyaç kredi\n",
      "       . evlilik kredi\n",
      "       . tatil kredi\n",
      "# 'Düzenli Ödeme':\n",
      "  . Most correlated unigrams:\n",
      "       . bir\n",
      "       . sınırsız\n",
      "       . değişken\n",
      "  . Most correlated bigrams:\n",
      "       . müdür bir\n",
      "       . sınırsız banka\n",
      "       . gerçek öde\n",
      "# 'Esnek Hesap':\n",
      "  . Most correlated unigrams:\n",
      "       . periyot\n",
      "       . tahakkuk\n",
      "       . esnek\n",
      "  . Most correlated bigrams:\n",
      "       . ne esnek\n",
      "       . faiz öde\n",
      "       . esnek hesap\n",
      "# 'Genel':\n",
      "  . Most correlated unigrams:\n",
      "       . paket\n",
      "       . vazgeç\n",
      "       . tahsilat\n",
      "  . Most correlated bigrams:\n",
      "       . durum masraf\n",
      "       . diğer işlem\n",
      "       . işlem masraf\n",
      "# 'Güvenlik Ürünleri':\n",
      "  . Most correlated unigrams:\n",
      "       . imza\n",
      "       . anahtar\n",
      "       . akıl\n",
      "  . Most correlated bigrams:\n",
      "       . akıl cep\n",
      "       . mobil imza\n",
      "       . akıl anahtar\n",
      "# 'Konut':\n",
      "  . Most correlated unigrams:\n",
      "       . ev\n",
      "       . hangi\n",
      "       . konut\n",
      "  . Most correlated bigrams:\n",
      "       . vade konut\n",
      "       . kredi kullan\n",
      "       . konut kredi\n",
      "# 'Kredi Kartları':\n",
      "  . Most correlated unigrams:\n",
      "       . kart\n",
      "       . fenerbahçe\n",
      "       . worldcard\n",
      "  . Most correlated bigrams:\n",
      "       . kredi kart\n",
      "       . şube kredi\n",
      "       . üye ücret\n",
      "# 'Mobil Bankacılık':\n",
      "  . Most correlated unigrams:\n",
      "       . herkes\n",
      "       . tablet\n",
      "       . cihaz\n",
      "  . Most correlated bigrams:\n",
      "       . mobil banka\n",
      "       . mobil cihaz\n",
      "       . kredi mobil\n",
      "# 'SWIFT':\n",
      "  . Most correlated unigrams:\n",
      "       . ne\n",
      "       . kod\n",
      "       . swift\n",
      "  . Most correlated bigrams:\n",
      "       . banka swift\n",
      "       . ne banka\n",
      "       . swift kod\n",
      "# 'Taşıt':\n",
      "  . Most correlated unigrams:\n",
      "       . tekne\n",
      "       . motosiklet\n",
      "       . taşıt\n",
      "  . Most correlated bigrams:\n",
      "       . motosiklet kredi\n",
      "       . tekne kredi\n",
      "       . taşıt kredi\n",
      "# 'Vadeli Hesap':\n",
      "  . Most correlated unigrams:\n",
      "       . mevduat\n",
      "       . sözleşme\n",
      "       . anapara\n",
      "  . Most correlated bigrams:\n",
      "       . sözleşme bireysel\n",
      "       . müşteri sözleşme\n",
      "       . hesap alt\n",
      "# 'Vadesiz Hesap':\n",
      "  . Most correlated unigrams:\n",
      "       . aracılığıyla\n",
      "       . ni\n",
      "       . kapa\n",
      "  . Most correlated bigrams:\n",
      "       . kapa talep\n",
      "       . hesap kapa\n",
      "       . kapa işlem\n",
      "# 'Web Formları':\n",
      "  . Most correlated unigrams:\n",
      "       . web\n",
      "       . gayrimenkul\n",
      "       . teklif\n",
      "  . Most correlated bigrams:\n",
      "       . yap kurum\n",
      "       . yap fatura\n",
      "       . öde merkez\n",
      "# 'Üye İşyeri':\n",
      "  . Most correlated unigrams:\n",
      "       . adsl\n",
      "       . hekim\n",
      "       . pos\n",
      "  . Most correlated bigrams:\n",
      "       . banka hat\n",
      "       . kurum telefon\n",
      "       . pos başvuru\n",
      "# 'İnternet Şubesi':\n",
      "  . Most correlated unigrams:\n",
      "       . menü\n",
      "       . sağ\n",
      "       . görüntüle\n",
      "  . Most correlated bigrams:\n",
      "       . buton tıkla\n",
      "       . eft işlem\n",
      "       . kullan kod\n"
     ]
    }
   ],
   "source": [
    "N = 3\n",
    "for category, category_id in sorted(category_to_id.items()):\n",
    "    features_chi2 = chi2(features, labels == category_id)\n",
    "    indices = np.argsort(features_chi2[0])\n",
    "    feature_names = np.array(vectorizer.get_feature_names())[indices]\n",
    "    unigrams = [v for v in feature_names if len(v.split(' ')) == 1]\n",
    "    bigrams = [v for v in feature_names if len(v.split(' ')) == 2]\n",
    "    print(\"# '{}':\".format(category))\n",
    "    print(\"  . Most correlated unigrams:\\n       . {}\".format('\\n       . '.join(unigrams[-N:])))\n",
    "    print(\"  . Most correlated bigrams:\\n       . {}\".format('\\n       . '.join(bigrams[-N:])))"
   ]
  },
  {
   "cell_type": "code",
   "execution_count": 49,
   "metadata": {},
   "outputs": [
    {
     "name": "stdout",
     "output_type": "stream",
     "text": [
      "Original number of features: (367, 9217)\n",
      "Reduced number of features: (367, 150)\n"
     ]
    }
   ],
   "source": [
    "#Compare Chi-Squared Statistics\n",
    "#Select 5 features with highest chi-squared statistics\n",
    "\n",
    "chi2_selector = SelectKBest(chi2, k=150)\n",
    "X_kbest = chi2_selector.fit_transform(features, labels)\n",
    "\n",
    "# Show results\n",
    "print('Original number of features:', features.shape)\n",
    "print('Reduced number of features:', X_kbest.shape)"
   ]
  },
  {
   "cell_type": "markdown",
   "metadata": {},
   "source": [
    "Cankut Coskun \n",
    "cankutcoskun@sabanciuniv.edu\n",
    "21.08.2019\n",
    "İstanbul/Turkey"
   ]
  }
 ],
 "metadata": {
  "kernelspec": {
   "display_name": "Python 3",
   "language": "python",
   "name": "python3"
  },
  "language_info": {
   "codemirror_mode": {
    "name": "ipython",
    "version": 3
   },
   "file_extension": ".py",
   "mimetype": "text/x-python",
   "name": "python",
   "nbconvert_exporter": "python",
   "pygments_lexer": "ipython3",
   "version": "3.7.3"
  }
 },
 "nbformat": 4,
 "nbformat_minor": 2
}
