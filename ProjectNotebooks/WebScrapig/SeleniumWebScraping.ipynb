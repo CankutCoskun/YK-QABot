{
 "cells": [
  {
   "cell_type": "code",
   "execution_count": 1,
   "metadata": {},
   "outputs": [],
   "source": [
    "from  selenium import webdriver\n",
    "from selenium.common.exceptions import StaleElementReferenceException\n",
    "import time"
   ]
  },
  {
   "cell_type": "code",
   "execution_count": 2,
   "metadata": {},
   "outputs": [],
   "source": [
    "driver_path = \"/Users/cankutcoskun/Desktop/ChatBotProject/chromedriver\"\n",
    "\n",
    "browser = webdriver.Chrome(executable_path=driver_path)"
   ]
  },
  {
   "cell_type": "code",
   "execution_count": null,
   "metadata": {},
   "outputs": [],
   "source": [
    "browser.get(\"https://www.yapikredi.com.tr/\")"
   ]
  },
  {
   "cell_type": "code",
   "execution_count": null,
   "metadata": {},
   "outputs": [],
   "source": [
    "browser.title"
   ]
  },
  {
   "cell_type": "code",
   "execution_count": null,
   "metadata": {},
   "outputs": [],
   "source": [
    "#browser.refresh()\n",
    "#browser.back()\n",
    "#browser.forward()\n",
    "#browser.close()  # Sadece sekmeyi kapatır.\n",
    "#browser.quit()  # Tüm tarayıcıyı kapatır.\n",
    "#browser.maximize_window()\n",
    "#browser.set_window_size(800,600)\n",
    "#browser.save_screenshot(\"TestBrowserScreenshot.png\")"
   ]
  },
  {
   "cell_type": "code",
   "execution_count": null,
   "metadata": {},
   "outputs": [],
   "source": [
    "#find_elements_by_class_name()\n",
    "#find_elements_by_css_selector()\n",
    "#find_elements_by_id()\n",
    "#find_elements_by_link_text()\n",
    "#find_elements_by_name()\n",
    "#find_elements_by_partial_link_text()\n",
    "#find_elements_by_tag_name()\n",
    "#find_elements_by_xpath()"
   ]
  },
  {
   "cell_type": "code",
   "execution_count": null,
   "metadata": {},
   "outputs": [],
   "source": [
    "#browser.find_element_by_xpath(\"/html/body/div[1]/div[2]/div/ul/li[4]/ul/li[2]/a\")"
   ]
  },
  {
   "cell_type": "code",
   "execution_count": null,
   "metadata": {},
   "outputs": [],
   "source": [
    "browser.page_source"
   ]
  },
  {
   "cell_type": "code",
   "execution_count": null,
   "metadata": {},
   "outputs": [],
   "source": [
    "inputText = browser.find_element_by_id(\"searchText\")"
   ]
  },
  {
   "cell_type": "code",
   "execution_count": null,
   "metadata": {},
   "outputs": [],
   "source": [
    "inputText.send_keys('Sıkça sorulan sorular')"
   ]
  },
  {
   "cell_type": "code",
   "execution_count": null,
   "metadata": {},
   "outputs": [],
   "source": [
    "bulButton = browser.find_element_by_link_text(\"BUL\")"
   ]
  },
  {
   "cell_type": "code",
   "execution_count": null,
   "metadata": {},
   "outputs": [],
   "source": [
    "bulButton.click()"
   ]
  },
  {
   "cell_type": "code",
   "execution_count": null,
   "metadata": {},
   "outputs": [],
   "source": [
    "keyMatch = browser.find_element_by_class_name(\"keymatch\")"
   ]
  },
  {
   "cell_type": "code",
   "execution_count": null,
   "metadata": {},
   "outputs": [],
   "source": [
    "keyMatch.click()"
   ]
  },
  {
   "cell_type": "code",
   "execution_count": 3,
   "metadata": {},
   "outputs": [],
   "source": [
    "browser.get(\"https://www.yapikredi.com.tr/memnuniyetiniz-icin-buradayiz/sikca-sorulan-sorular/\")"
   ]
  },
  {
   "cell_type": "code",
   "execution_count": 4,
   "metadata": {},
   "outputs": [],
   "source": [
    "QnAs = []"
   ]
  },
  {
   "cell_type": "code",
   "execution_count": 5,
   "metadata": {
    "scrolled": true
   },
   "outputs": [
    {
     "name": "stdout",
     "output_type": "stream",
     "text": [
      "I have clicked for 2\n",
      "I have clicked for 3\n",
      "I have clicked for 4\n",
      "I have clicked for 5\n",
      "I have clicked for 6\n",
      "I have clicked for 7\n",
      "I have clicked for 8\n",
      "I have clicked for 9\n",
      "I have clicked for 10\n",
      "I have clicked for 11\n",
      "WARNING !! Exception\n",
      "I have clicked for 12\n",
      "I have clicked for 13\n",
      "I have clicked for 14\n",
      "I have clicked for 15\n",
      "I have clicked for 16\n",
      "I have clicked for 17\n",
      "I have clicked for 18\n",
      "I have clicked for 19\n",
      "I have clicked for 20\n",
      "I have clicked for 21\n",
      "I have clicked for 22\n",
      "I have clicked for 23\n",
      "I have clicked for 24\n",
      "I have clicked for 25\n",
      "I have clicked for 26\n",
      "I have clicked for 27\n",
      "I have clicked for 28\n",
      "I have clicked for 29\n",
      "I have clicked for 30\n",
      "I have clicked for 31\n",
      "I have clicked for 32\n",
      "I have clicked for 33\n",
      "I have clicked for 34\n",
      "I have clicked for 35\n",
      "I have clicked for 36\n",
      "I have clicked for 37\n",
      "I have clicked for 38\n",
      "I have clicked for 39\n",
      "I have clicked for 40\n",
      "I have clicked for 41\n"
     ]
    }
   ],
   "source": [
    "pageCount = 1\n",
    "while pageCount != 41:\n",
    "    \n",
    "    isNotAttached = True\n",
    "    while isNotAttached:\n",
    "        try:\n",
    "            \n",
    "            #######\n",
    "            faqs = browser.find_elements_by_class_name(\"answer-item\")\n",
    "            time.sleep(2)\n",
    "            for idx in range(len(faqs)):\n",
    "                texts = faqs[idx].text\n",
    "                texts = texts.split(\"\\n\")\n",
    "                QnAs.append(texts[0]+\"\\n\"+texts[1])\n",
    "\n",
    "            #WORK HERE\n",
    "           ######## \n",
    "            pager_next = browser.find_element_by_class_name(\"pager-next\")\n",
    "            time.sleep(2)\n",
    "            pager_next.click()\n",
    "            pageCount += 1\n",
    "            print(\"I have clicked for\",pageCount)\n",
    "            time.sleep(2)\n",
    "            \n",
    "            isNotAttached = False\n",
    "\n",
    "        except StaleElementReferenceException:\n",
    "            print(\"WARNING !! Exception\")\n",
    "            "
   ]
  },
  {
   "cell_type": "code",
   "execution_count": 6,
   "metadata": {},
   "outputs": [],
   "source": [
    "browser.quit()"
   ]
  },
  {
   "cell_type": "code",
   "execution_count": 31,
   "metadata": {},
   "outputs": [
    {
     "data": {
      "text/plain": [
       "400"
      ]
     },
     "execution_count": 31,
     "metadata": {},
     "output_type": "execute_result"
    }
   ],
   "source": [
    "len(QnAs)"
   ]
  },
  {
   "cell_type": "code",
   "execution_count": 40,
   "metadata": {},
   "outputs": [
    {
     "data": {
      "text/plain": [
       "['Vade sonunda hesap otomatik yenilenecek mi?\\nHayır, hesap otomatik yenilenmez.',\n",
       " 'Hesap vadesinden önce kapatılabilir mi?\\nHesap müşteri tarafından istenilen tarihte kapatılabilecektir. Hesap kapatıldığı takdirde mevcut bakiyesi ile vadesiz dönüş hesabına aktarılacaktır.',\n",
       " 'Enflasyona Endeksli Ara Dönem Ödemeli Mevduata vade günü haricinde para yatırılabilir mi?\\nHesaba vade günü haricinde para yatırma işlemi gerçekleştirilemeyecektir.',\n",
       " 'Enflasyona Endeksli Ara Dönem Ödemeli Mevduatta belirtilen ek faiz oranı vade sonunda değişebilir mi?\\nHayır, hesap açılırken belirtilen ek faiz oranı değişmeyecek ve size teslim edilen talimatta yer alacaktır.',\n",
       " 'Açılamada belirtilen Tüketici Fiyat Endeks Rakamları arasındaki 3 veya 6 aylık fark nedir?\\n3 veya 6 aylık enflasyon oranını ifade etmektedir. Yapacağınız dönem ödemesi seçimine göre paranızın değerinin 3 veya 6 aylık dönemde korunmasını sağlar.']"
      ]
     },
     "execution_count": 40,
     "metadata": {},
     "output_type": "execute_result"
    }
   ],
   "source": [
    "QnAs[0:5]"
   ]
  },
  {
   "cell_type": "code",
   "execution_count": 41,
   "metadata": {},
   "outputs": [],
   "source": [
    "for i in range()QnAs:\n",
    "    qna = qna.replace(\".\",\"\")"
   ]
  },
  {
   "cell_type": "code",
   "execution_count": 34,
   "metadata": {},
   "outputs": [],
   "source": [
    "QnA_dict = set(QnAs)"
   ]
  },
  {
   "cell_type": "code",
   "execution_count": 35,
   "metadata": {},
   "outputs": [
    {
     "data": {
      "text/plain": [
       "393"
      ]
     },
     "execution_count": 35,
     "metadata": {},
     "output_type": "execute_result"
    }
   ],
   "source": [
    "len(QnA_dict)"
   ]
  },
  {
   "cell_type": "code",
   "execution_count": 42,
   "metadata": {},
   "outputs": [
    {
     "data": {
      "text/plain": [
       "\"Alışverişlerde Worldcard'ı nasıl kullanırsınız?\\nHem yurtiçinde hem de yurtdışında, VISA ve/veya MasterCard amblemi bulunan milyonlarca işyerinde Worldcard'ınızla alışveriş yapabilirsiniz. Worldcard'ınızla World amblemini gördüğünüz 250.000’e yakın üye işyerinde yapacağınız alışverişlerinizden ise Worldpuan kazanırsınız\""
      ]
     },
     "execution_count": 42,
     "metadata": {},
     "output_type": "execute_result"
    }
   ],
   "source": [
    "list(QnA_dict)[112]"
   ]
  },
  {
   "cell_type": "code",
   "execution_count": 38,
   "metadata": {},
   "outputs": [
    {
     "data": {
      "text/plain": [
       "'Alışverişlerde Worldcard’ı nasıl kullanırsınız?\\nHem yurtiçinde hem de yurtdışında, VISA ve/veya MasterCard amblemi bulunan milyonlarca işyerinde Worldcard’ınızla alışveriş yapabilirsiniz. Worldcard’ınızla World amblemini gördüğünüz 250.000’e yakın üye işyerinde yapacağınız alışverişlerinizden ise Worldpuan kazanırsınız.'"
      ]
     },
     "execution_count": 38,
     "metadata": {},
     "output_type": "execute_result"
    }
   ],
   "source": [
    "list(QnA_dict)[378]"
   ]
  },
  {
   "cell_type": "code",
   "execution_count": 11,
   "metadata": {
    "scrolled": false
   },
   "outputs": [],
   "source": [
    "questions = []\n",
    "answers = []\n",
    "\n",
    "for each in QnA_dict:\n",
    "    \n",
    "    qna = each.split(\"\\n\")\n",
    "    question = qna[0]\n",
    "    questions.append(question)\n",
    "    answer = qna[1]\n",
    "    answers.append(answer)"
   ]
  },
  {
   "cell_type": "code",
   "execution_count": 12,
   "metadata": {},
   "outputs": [
    {
     "name": "stdout",
     "output_type": "stream",
     "text": [
      "393 393\n"
     ]
    }
   ],
   "source": [
    "print(len(questions),len(answers))"
   ]
  },
  {
   "cell_type": "code",
   "execution_count": 29,
   "metadata": {},
   "outputs": [
    {
     "data": {
      "text/plain": [
       "\"Alışverişlerde Worldcard'ı nasıl kullanırsınız?\""
      ]
     },
     "execution_count": 29,
     "metadata": {},
     "output_type": "execute_result"
    }
   ],
   "source": [
    "questions[112]"
   ]
  },
  {
   "cell_type": "code",
   "execution_count": 30,
   "metadata": {},
   "outputs": [
    {
     "data": {
      "text/plain": [
       "'Alışverişlerde Worldcard’ı nasıl kullanırsınız?'"
      ]
     },
     "execution_count": 30,
     "metadata": {},
     "output_type": "execute_result"
    }
   ],
   "source": [
    "questions[378]"
   ]
  },
  {
   "cell_type": "code",
   "execution_count": 20,
   "metadata": {},
   "outputs": [
    {
     "data": {
      "text/plain": [
       "['Fatura Ödeme işlemlerinden ücret alınıyor mu?',\n",
       " 'Mobil Şube’de bankacılık işlemleri yaparken SMS ya da çağrı alırsam ne olur?',\n",
       " 'World üye işyeriyim. World özelliği kazanan kredi kartlarını başka banka posundan geçirdiğimde world puan verecek miyim ?',\n",
       " 'Vade farklı satış yapmak istiyorum nasıl talepte bulunabilirim ?',\n",
       " 'Kredi faiz oranını düşürebilir miyim?']"
      ]
     },
     "execution_count": 20,
     "metadata": {},
     "output_type": "execute_result"
    }
   ],
   "source": [
    "questions[0:5]"
   ]
  },
  {
   "cell_type": "code",
   "execution_count": 22,
   "metadata": {},
   "outputs": [
    {
     "data": {
      "text/plain": [
       "['Kredi kartından fatura ödemeleri için alınan işlem ücretlerini Ürün ve Hizmet Ücretleri sayfamızda yer alan Kredi Kartı İşlem Ücretleri > Anlaşmalı Kurum Fatura /SGK Prim Ödemeleri başlığı altından inceleyebilirsiniz. Ayrıca işleminizin “Onay” adımında da alınacak ücret tutarını görebilirsiniz',\n",
       " 'Mobil şube’de bankacılık işlemleri yaparken telefonunuza SMS ya da çağrı gelirse uygulama arka plana düşecek ve kısa bir süre daha çalışmaya devam edecektir. Belirlenen süre içerisinde uygulamaya tekrar dönülürse işlemlere devam edilebilir. Belirlenen sürede uygulamaya dönülmezse tekrar giriş yapılarak işlem yapılabilir.',\n",
       " 'World üye işyerleri world özelliği kazanan kredi kartlarını sadece yapı kredi posundan geçirmeli , başka banka posu kullanıldığında hesabınızdan Yapı Kredi worldcardlara verdiğiniz worldpuan kadar puan kesintisi olacaktır.',\n",
       " 'Vade farklı satış yetkinizin açılması için Yapı Kredi şubesinden başvuru yapabilirsiniz.',\n",
       " 'Kredi faiz bedelinin bir kısmını baştan ödeyerek, kredinizin faiz oranını indirebilir ve bu sayede aylık taksitlerinizi önemli ölçüde azaltabilirsiniz. Mevcut birikimlerinizi bu şekilde değerlendirirseniz faiz oranınız ilan edilen sabit faizin altında olur ve kredi vadesi boyunca daha az tutarda taksit ödemesi yaparsınız.']"
      ]
     },
     "execution_count": 22,
     "metadata": {},
     "output_type": "execute_result"
    }
   ],
   "source": [
    "answers[0:5]"
   ]
  },
  {
   "cell_type": "code",
   "execution_count": 24,
   "metadata": {},
   "outputs": [],
   "source": [
    "file_q = open(\"/Users/cankutcoskun/Desktop/ChatBotProject/QnA/questions.txt\",\"w\")\n",
    "file_a = open(\"/Users/cankutcoskun/Desktop/ChatBotProject/QnA/answers.txt\",\"w\")"
   ]
  },
  {
   "cell_type": "code",
   "execution_count": 25,
   "metadata": {},
   "outputs": [],
   "source": [
    "q = '\\n'.join(questions)\n",
    "a = '\\n'.join(answers)"
   ]
  },
  {
   "cell_type": "code",
   "execution_count": 26,
   "metadata": {},
   "outputs": [
    {
     "data": {
      "text/plain": [
       "91210"
      ]
     },
     "execution_count": 26,
     "metadata": {},
     "output_type": "execute_result"
    }
   ],
   "source": [
    "file_q.write(q)\n",
    "\n",
    "file_a.write(a)"
   ]
  },
  {
   "cell_type": "code",
   "execution_count": 27,
   "metadata": {},
   "outputs": [],
   "source": [
    "file_q.close()\n",
    "file_a.close()"
   ]
  }
 ],
 "metadata": {
  "kernelspec": {
   "display_name": "Python 3",
   "language": "python",
   "name": "python3"
  },
  "language_info": {
   "codemirror_mode": {
    "name": "ipython",
    "version": 3
   },
   "file_extension": ".py",
   "mimetype": "text/x-python",
   "name": "python",
   "nbconvert_exporter": "python",
   "pygments_lexer": "ipython3",
   "version": "3.7.3"
  }
 },
 "nbformat": 4,
 "nbformat_minor": 2
}
