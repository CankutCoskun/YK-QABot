{
 "cells": [
  {
   "cell_type": "code",
   "execution_count": 17,
   "metadata": {},
   "outputs": [],
   "source": [
    "from gensim.test.utils import get_tmpfile\n",
    "from gensim.models import KeyedVectors\n",
    "fname = get_tmpfile(\"EmbeddingVectors\")\n",
    "newmodel = KeyedVectors.load(fname, mmap='r')\n",
    "\n",
    "from sklearn.decomposition import IncrementalPCA    # inital reduction\n",
    "from sklearn.manifold import TSNE                   # final reduction\n",
    "import numpy as np                                  # array handling\n",
    "\n",
    "from plotly.offline import init_notebook_mode, iplot, plot\n",
    "import plotly.graph_objs as go"
   ]
  },
  {
   "cell_type": "code",
   "execution_count": 28,
   "metadata": {},
   "outputs": [],
   "source": [
    "import logging\n",
    "logging.getLogger().setLevel(logging.INFO)\n",
    "logging.basicConfig(level=logging.DEBUG)\n",
    "logging.debug('This will get logged')"
   ]
  },
  {
   "cell_type": "code",
   "execution_count": 29,
   "metadata": {},
   "outputs": [
    {
     "data": {
      "text/plain": [
       "array([ 1.73559141e+00,  2.55691099e+00, -2.67785378e-02,  1.17754734e+00,\n",
       "       -3.62842083e-01,  2.36676168e+00, -1.26531816e+00,  2.67359757e+00,\n",
       "       -6.05184376e-01,  5.00571847e-01, -7.63441920e-01,  4.63989705e-01,\n",
       "       -1.95994884e-01,  2.24666789e-01,  3.15744549e-01, -2.35525608e-01,\n",
       "       -1.96626687e+00, -2.60644937e+00, -5.25864482e-01, -1.79604900e+00,\n",
       "       -1.18509901e+00, -4.43391943e+00, -1.23399270e+00, -4.03547668e+00,\n",
       "        1.00929037e-01,  2.15009189e+00,  1.45788860e+00, -1.42133844e+00,\n",
       "        2.27804947e+00, -1.74393499e+00,  6.98117912e-03, -5.73501444e+00,\n",
       "        2.94523573e+00, -2.27193260e+00, -6.23767381e-04, -4.40908164e-01,\n",
       "        3.71553957e-01,  8.81419361e-01, -1.13911368e-01, -1.17039478e+00,\n",
       "        4.17403430e-01, -1.66177973e-01,  1.60009193e+00,  8.82298470e-01,\n",
       "        1.05430633e-01,  6.52284682e-01, -1.37578297e+00,  9.05949473e-01,\n",
       "       -3.07605195e+00, -5.37881613e-01, -1.08492708e+00, -1.65562272e+00,\n",
       "        1.59068811e+00, -7.31755197e-02,  1.73506737e+00,  6.14202581e-02,\n",
       "        2.20024848e+00,  8.17403495e-02, -5.68991423e-01, -1.73116982e-01,\n",
       "       -6.91441774e-01,  6.40053213e-01, -3.24775130e-01,  1.26454258e+00,\n",
       "        3.05983592e-02,  3.23926985e-01,  7.24419415e-01, -3.17933416e+00,\n",
       "        1.53284287e+00, -2.66884589e+00, -1.03128962e-01, -8.26142311e-01,\n",
       "        2.08681965e+00,  2.79444170e+00,  2.01270008e+00,  1.94467157e-01,\n",
       "       -1.19741654e+00, -5.50079882e-01, -1.44634795e+00, -2.14085960e+00,\n",
       "        5.52817285e-02, -1.27066147e+00,  2.30725098e+00, -3.95602249e-02,\n",
       "       -1.65528750e+00,  1.50865123e-01,  1.70902967e+00,  8.04051638e-01,\n",
       "       -1.36289740e+00, -1.13217747e+00, -2.09564757e+00,  1.55256581e+00,\n",
       "        2.36117721e+00, -3.12331408e-01, -1.38615534e-01,  9.26084876e-01,\n",
       "       -7.64979422e-01, -4.44129616e-01,  6.13156378e-01, -9.04030383e-01,\n",
       "        2.27388546e-01,  8.32516432e-01,  1.02943969e+00, -7.20157251e-02,\n",
       "       -6.19853914e-01,  6.52702391e-01, -2.07516789e+00,  7.06604719e-01,\n",
       "       -3.58704543e+00,  4.00516599e-01,  1.56067133e+00, -6.88940525e-01,\n",
       "       -7.46536970e-01,  3.25950682e-01, -2.27253914e+00,  1.42008591e+00,\n",
       "        2.73717344e-01, -1.24496186e+00,  2.35595167e-01,  4.20657158e-01,\n",
       "       -1.36090505e+00, -1.15346111e-01,  5.68609297e-01, -7.16831088e-01,\n",
       "       -7.84397244e-01, -3.65476280e-01, -8.38278770e-01, -3.27571201e+00,\n",
       "       -1.74786568e+00, -3.25320816e+00,  6.61191702e-01, -4.71445471e-01,\n",
       "       -2.80227810e-01,  8.74213457e-01,  8.76535028e-02, -2.46550226e+00,\n",
       "       -1.03168809e+00, -1.71448648e+00, -1.36495030e+00, -3.70904970e+00,\n",
       "        1.25656164e+00, -1.33478677e+00,  2.75142837e+00, -7.56480277e-01,\n",
       "       -4.54067215e-02,  6.49718642e-01, -3.46322954e-01, -2.37721014e+00,\n",
       "       -2.65655422e+00, -1.04792023e+00,  2.64698219e+00, -2.85151696e+00,\n",
       "        1.05096519e+00,  1.81472197e-01, -1.21098828e+00,  2.09787536e+00,\n",
       "       -2.16542870e-01,  2.77961642e-01, -9.51215029e-02,  1.70762524e-01,\n",
       "       -2.68037057e+00, -1.79505503e+00,  1.36787581e+00,  2.58336020e+00,\n",
       "        1.95641017e+00,  1.86520517e+00, -3.33152318e+00, -9.28257823e-01,\n",
       "        6.20518140e-02, -1.37196869e-01, -2.29232454e+00,  9.32744443e-02,\n",
       "       -1.24306813e-01,  2.20011413e-01,  2.06868395e-01,  1.08389711e+00,\n",
       "        8.70781481e-01, -2.96982193e+00, -2.43059564e+00, -1.53874588e+00,\n",
       "       -7.09786773e-01,  1.40673494e+00, -3.09790444e+00,  7.10481286e-01,\n",
       "       -3.70875031e-01, -1.51122773e+00, -1.81568956e+00, -9.60331023e-01,\n",
       "       -2.04087758e+00,  1.21584415e+00, -4.91600558e-02,  1.02556181e+00,\n",
       "        5.47610402e-01,  5.01673889e+00, -3.03268254e-01,  1.74672946e-01,\n",
       "        1.11534156e-01, -4.91152406e-01, -2.07533574e+00, -3.71655273e+00],\n",
       "      dtype=float32)"
      ]
     },
     "execution_count": 29,
     "metadata": {},
     "output_type": "execute_result"
    }
   ],
   "source": [
    "newmodel.wv[\"ankara\"]"
   ]
  },
  {
   "cell_type": "code",
   "execution_count": 34,
   "metadata": {},
   "outputs": [],
   "source": [
    "def reduce_dimensions(model, plot_in_notebook = False):\n",
    "\n",
    "    num_dimensions = 2  # final num dimensions (2D, 3D, etc)\n",
    "\n",
    "    vectors = []        # positions in vector space\n",
    "    labels = []         # keep track of words to label our data again later\n",
    "    for word in model.wv.vocab:\n",
    "        vectors.append(model[word])\n",
    "        labels.append(word)\n",
    "\n",
    "\n",
    "    # convert both lists into numpy vectors for reduction\n",
    "    vectors = np.asarray(vectors)\n",
    "    labels = np.asarray(labels)\n",
    "    \n",
    "    # reduce using t-SNE\n",
    "    vectors = np.asarray(vectors)\n",
    "    logging.info('starting tSNE dimensionality reduction. This may take some time.')\n",
    "    tsne = TSNE(n_components=num_dimensions, random_state=0)\n",
    "    vectors = tsne.fit_transform(vectors)\n",
    "\n",
    "    x_vals = [v[0] for v in vectors]\n",
    "    y_vals = [v[1] for v in vectors]\n",
    "        \n",
    "    # Create a trace\n",
    "    trace = go.Scatter(\n",
    "        x=x_vals,\n",
    "        y=y_vals,\n",
    "        mode='text',\n",
    "        text=labels\n",
    "        )\n",
    "    \n",
    "    data = [trace]\n",
    "    \n",
    "    logging.info('All done. Plotting.')\n",
    "    \n",
    "    if plot_in_notebook:\n",
    "        init_notebook_mode(connected=True)\n",
    "        iplot(data, filename='word-embedding-plot')\n",
    "    else:\n",
    "        plot(data, filename='word-embedding-plot.html')\n"
   ]
  },
  {
   "cell_type": "code",
   "execution_count": null,
   "metadata": {},
   "outputs": [
    {
     "name": "stderr",
     "output_type": "stream",
     "text": [
      "/Library/Frameworks/Python.framework/Versions/3.7/lib/python3.7/site-packages/ipykernel_launcher.py:7: DeprecationWarning:\n",
      "\n",
      "Call to deprecated `wv` (Attribute will be removed in 4.0.0, use self instead).\n",
      "\n",
      "INFO:root:starting tSNE dimensionality reduction. This may take some time.\n"
     ]
    }
   ],
   "source": [
    "reduce_dimensions(newmodel.wv)"
   ]
  },
  {
   "cell_type": "code",
   "execution_count": null,
   "metadata": {},
   "outputs": [],
   "source": []
  }
 ],
 "metadata": {
  "kernelspec": {
   "display_name": "Python 3",
   "language": "python",
   "name": "python3"
  },
  "language_info": {
   "codemirror_mode": {
    "name": "ipython",
    "version": 3
   },
   "file_extension": ".py",
   "mimetype": "text/x-python",
   "name": "python",
   "nbconvert_exporter": "python",
   "pygments_lexer": "ipython3",
   "version": "3.7.3"
  }
 },
 "nbformat": 4,
 "nbformat_minor": 2
}
